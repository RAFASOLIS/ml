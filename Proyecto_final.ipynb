{
  "cells": [
    {
      "cell_type": "markdown",
      "metadata": {
        "id": "view-in-github",
        "colab_type": "text"
      },
      "source": [
        "<a href=\"https://colab.research.google.com/github/RAFASOLIS/ml/blob/main/Proyecto_final.ipynb\" target=\"_parent\"><img src=\"https://colab.research.google.com/assets/colab-badge.svg\" alt=\"Open In Colab\"/></a>"
      ]
    },
    {
      "cell_type": "markdown",
      "id": "ead4329e",
      "metadata": {
        "id": "ead4329e"
      },
      "source": [
        "![SkillupLogo.jpg](data:image/jpeg;base64,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)"
      ]
    },
    {
      "cell_type": "markdown",
      "id": "c25c7041",
      "metadata": {
        "id": "c25c7041"
      },
      "source": [
        "# **Detección de fraudes con tarjetas de crédito**"
      ]
    },
    {
      "cell_type": "markdown",
      "id": "daaffd97",
      "metadata": {
        "id": "daaffd97"
      },
      "source": [
        "Enlace al dataset: https://www.kaggle.com/datasets/mlg-ulb/creditcardfraud"
      ]
    },
    {
      "cell_type": "markdown",
      "id": "6795d0c1",
      "metadata": {
        "id": "6795d0c1"
      },
      "source": [
        "### Importa las bibliotecas necesarias"
      ]
    },
    {
      "cell_type": "code",
      "execution_count": 101,
      "id": "2eb4d791",
      "metadata": {
        "id": "2eb4d791"
      },
      "outputs": [],
      "source": [
        "# Importa la bibliotecas necesarias\n",
        "import pandas as pd\n",
        "import numpy as np\n",
        "import matplotlib.pyplot as plt\n",
        "import seaborn as sns\n",
        "import os\n",
        "import warnings\n",
        "warnings.filterwarnings(\"ignore\")"
      ]
    },
    {
      "cell_type": "markdown",
      "source": [
        "**Descripción del contenido del dataset creditcard.csv**\n",
        "\n",
        "El conjunto de datos sometido a estudio contiene transacciones realizadas con tarjetas de credito en septiembre de 2013 por titulares de tarjetas europeos.\n",
        "\n",
        "- Contiene solo variables de entrada numericas que son el resultado de una transformacion PCA (https://rpubs.com/Cristina_Gil/PCA).\n",
        "- Por motivos de confidencialidad no se ha podido exponer las caracteristicas y datos originales, siendo variables de esta transformacion desde V1 hasta la V31.\n",
        "- Las unicas caracteristicas que no se han transformado son tiempo (time) y cantidad o importe de la transaccion (amount).\n",
        "- La caracteristica tiempo contiene los segundos transcurridos entre cada transaccion y la primera transaccion en el conjunto de datos.\n",
        "- La caracteristica ‘Clase’ es la variable de respuesta y toma el valor 1 en caso de fraude y 0 en caso contrario.\n",
        "\n",
        "Fuente: https://rpubs.com/Jacalti/CreditCard_Predict\n"
      ],
      "metadata": {
        "id": "rQjrlG37FtcE"
      },
      "id": "rQjrlG37FtcE"
    },
    {
      "cell_type": "markdown",
      "id": "c4134d12",
      "metadata": {
        "id": "c4134d12"
      },
      "source": [
        "### Importa y organiza el dataset"
      ]
    },
    {
      "cell_type": "code",
      "source": [
        "df=pd.read_csv(\"/content/sample_data/creditcard.csv\")\n",
        "df.head(5)"
      ],
      "metadata": {
        "colab": {
          "base_uri": "https://localhost:8080/",
          "height": 256
        },
        "id": "oq38IOJNJsm4",
        "outputId": "5e3c9262-912d-41e4-c4d1-a0333db31c0d"
      },
      "id": "oq38IOJNJsm4",
      "execution_count": 102,
      "outputs": [
        {
          "output_type": "execute_result",
          "data": {
            "text/plain": [
              "   Time        V1        V2        V3        V4        V5        V6        V7  \\\n",
              "0   0.0 -1.359807 -0.072781  2.536347  1.378155 -0.338321  0.462388  0.239599   \n",
              "1   0.0  1.191857  0.266151  0.166480  0.448154  0.060018 -0.082361 -0.078803   \n",
              "2   1.0 -1.358354 -1.340163  1.773209  0.379780 -0.503198  1.800499  0.791461   \n",
              "3   1.0 -0.966272 -0.185226  1.792993 -0.863291 -0.010309  1.247203  0.237609   \n",
              "4   2.0 -1.158233  0.877737  1.548718  0.403034 -0.407193  0.095921  0.592941   \n",
              "\n",
              "         V8        V9  ...       V21       V22       V23       V24       V25  \\\n",
              "0  0.098698  0.363787  ... -0.018307  0.277838 -0.110474  0.066928  0.128539   \n",
              "1  0.085102 -0.255425  ... -0.225775 -0.638672  0.101288 -0.339846  0.167170   \n",
              "2  0.247676 -1.514654  ...  0.247998  0.771679  0.909412 -0.689281 -0.327642   \n",
              "3  0.377436 -1.387024  ... -0.108300  0.005274 -0.190321 -1.175575  0.647376   \n",
              "4 -0.270533  0.817739  ... -0.009431  0.798278 -0.137458  0.141267 -0.206010   \n",
              "\n",
              "        V26       V27       V28  Amount  Class  \n",
              "0 -0.189115  0.133558 -0.021053  149.62      0  \n",
              "1  0.125895 -0.008983  0.014724    2.69      0  \n",
              "2 -0.139097 -0.055353 -0.059752  378.66      0  \n",
              "3 -0.221929  0.062723  0.061458  123.50      0  \n",
              "4  0.502292  0.219422  0.215153   69.99      0  \n",
              "\n",
              "[5 rows x 31 columns]"
            ],
            "text/html": [
              "\n",
              "  <div id=\"df-23ca2719-56a2-4809-915d-88a9f5cfeb20\" class=\"colab-df-container\">\n",
              "    <div>\n",
              "<style scoped>\n",
              "    .dataframe tbody tr th:only-of-type {\n",
              "        vertical-align: middle;\n",
              "    }\n",
              "\n",
              "    .dataframe tbody tr th {\n",
              "        vertical-align: top;\n",
              "    }\n",
              "\n",
              "    .dataframe thead th {\n",
              "        text-align: right;\n",
              "    }\n",
              "</style>\n",
              "<table border=\"1\" class=\"dataframe\">\n",
              "  <thead>\n",
              "    <tr style=\"text-align: right;\">\n",
              "      <th></th>\n",
              "      <th>Time</th>\n",
              "      <th>V1</th>\n",
              "      <th>V2</th>\n",
              "      <th>V3</th>\n",
              "      <th>V4</th>\n",
              "      <th>V5</th>\n",
              "      <th>V6</th>\n",
              "      <th>V7</th>\n",
              "      <th>V8</th>\n",
              "      <th>V9</th>\n",
              "      <th>...</th>\n",
              "      <th>V21</th>\n",
              "      <th>V22</th>\n",
              "      <th>V23</th>\n",
              "      <th>V24</th>\n",
              "      <th>V25</th>\n",
              "      <th>V26</th>\n",
              "      <th>V27</th>\n",
              "      <th>V28</th>\n",
              "      <th>Amount</th>\n",
              "      <th>Class</th>\n",
              "    </tr>\n",
              "  </thead>\n",
              "  <tbody>\n",
              "    <tr>\n",
              "      <th>0</th>\n",
              "      <td>0.0</td>\n",
              "      <td>-1.359807</td>\n",
              "      <td>-0.072781</td>\n",
              "      <td>2.536347</td>\n",
              "      <td>1.378155</td>\n",
              "      <td>-0.338321</td>\n",
              "      <td>0.462388</td>\n",
              "      <td>0.239599</td>\n",
              "      <td>0.098698</td>\n",
              "      <td>0.363787</td>\n",
              "      <td>...</td>\n",
              "      <td>-0.018307</td>\n",
              "      <td>0.277838</td>\n",
              "      <td>-0.110474</td>\n",
              "      <td>0.066928</td>\n",
              "      <td>0.128539</td>\n",
              "      <td>-0.189115</td>\n",
              "      <td>0.133558</td>\n",
              "      <td>-0.021053</td>\n",
              "      <td>149.62</td>\n",
              "      <td>0</td>\n",
              "    </tr>\n",
              "    <tr>\n",
              "      <th>1</th>\n",
              "      <td>0.0</td>\n",
              "      <td>1.191857</td>\n",
              "      <td>0.266151</td>\n",
              "      <td>0.166480</td>\n",
              "      <td>0.448154</td>\n",
              "      <td>0.060018</td>\n",
              "      <td>-0.082361</td>\n",
              "      <td>-0.078803</td>\n",
              "      <td>0.085102</td>\n",
              "      <td>-0.255425</td>\n",
              "      <td>...</td>\n",
              "      <td>-0.225775</td>\n",
              "      <td>-0.638672</td>\n",
              "      <td>0.101288</td>\n",
              "      <td>-0.339846</td>\n",
              "      <td>0.167170</td>\n",
              "      <td>0.125895</td>\n",
              "      <td>-0.008983</td>\n",
              "      <td>0.014724</td>\n",
              "      <td>2.69</td>\n",
              "      <td>0</td>\n",
              "    </tr>\n",
              "    <tr>\n",
              "      <th>2</th>\n",
              "      <td>1.0</td>\n",
              "      <td>-1.358354</td>\n",
              "      <td>-1.340163</td>\n",
              "      <td>1.773209</td>\n",
              "      <td>0.379780</td>\n",
              "      <td>-0.503198</td>\n",
              "      <td>1.800499</td>\n",
              "      <td>0.791461</td>\n",
              "      <td>0.247676</td>\n",
              "      <td>-1.514654</td>\n",
              "      <td>...</td>\n",
              "      <td>0.247998</td>\n",
              "      <td>0.771679</td>\n",
              "      <td>0.909412</td>\n",
              "      <td>-0.689281</td>\n",
              "      <td>-0.327642</td>\n",
              "      <td>-0.139097</td>\n",
              "      <td>-0.055353</td>\n",
              "      <td>-0.059752</td>\n",
              "      <td>378.66</td>\n",
              "      <td>0</td>\n",
              "    </tr>\n",
              "    <tr>\n",
              "      <th>3</th>\n",
              "      <td>1.0</td>\n",
              "      <td>-0.966272</td>\n",
              "      <td>-0.185226</td>\n",
              "      <td>1.792993</td>\n",
              "      <td>-0.863291</td>\n",
              "      <td>-0.010309</td>\n",
              "      <td>1.247203</td>\n",
              "      <td>0.237609</td>\n",
              "      <td>0.377436</td>\n",
              "      <td>-1.387024</td>\n",
              "      <td>...</td>\n",
              "      <td>-0.108300</td>\n",
              "      <td>0.005274</td>\n",
              "      <td>-0.190321</td>\n",
              "      <td>-1.175575</td>\n",
              "      <td>0.647376</td>\n",
              "      <td>-0.221929</td>\n",
              "      <td>0.062723</td>\n",
              "      <td>0.061458</td>\n",
              "      <td>123.50</td>\n",
              "      <td>0</td>\n",
              "    </tr>\n",
              "    <tr>\n",
              "      <th>4</th>\n",
              "      <td>2.0</td>\n",
              "      <td>-1.158233</td>\n",
              "      <td>0.877737</td>\n",
              "      <td>1.548718</td>\n",
              "      <td>0.403034</td>\n",
              "      <td>-0.407193</td>\n",
              "      <td>0.095921</td>\n",
              "      <td>0.592941</td>\n",
              "      <td>-0.270533</td>\n",
              "      <td>0.817739</td>\n",
              "      <td>...</td>\n",
              "      <td>-0.009431</td>\n",
              "      <td>0.798278</td>\n",
              "      <td>-0.137458</td>\n",
              "      <td>0.141267</td>\n",
              "      <td>-0.206010</td>\n",
              "      <td>0.502292</td>\n",
              "      <td>0.219422</td>\n",
              "      <td>0.215153</td>\n",
              "      <td>69.99</td>\n",
              "      <td>0</td>\n",
              "    </tr>\n",
              "  </tbody>\n",
              "</table>\n",
              "<p>5 rows × 31 columns</p>\n",
              "</div>\n",
              "    <div class=\"colab-df-buttons\">\n",
              "\n",
              "  <div class=\"colab-df-container\">\n",
              "    <button class=\"colab-df-convert\" onclick=\"convertToInteractive('df-23ca2719-56a2-4809-915d-88a9f5cfeb20')\"\n",
              "            title=\"Convert this dataframe to an interactive table.\"\n",
              "            style=\"display:none;\">\n",
              "\n",
              "  <svg xmlns=\"http://www.w3.org/2000/svg\" height=\"24px\" viewBox=\"0 -960 960 960\">\n",
              "    <path d=\"M120-120v-720h720v720H120Zm60-500h600v-160H180v160Zm220 220h160v-160H400v160Zm0 220h160v-160H400v160ZM180-400h160v-160H180v160Zm440 0h160v-160H620v160ZM180-180h160v-160H180v160Zm440 0h160v-160H620v160Z\"/>\n",
              "  </svg>\n",
              "    </button>\n",
              "\n",
              "  <style>\n",
              "    .colab-df-container {\n",
              "      display:flex;\n",
              "      gap: 12px;\n",
              "    }\n",
              "\n",
              "    .colab-df-convert {\n",
              "      background-color: #E8F0FE;\n",
              "      border: none;\n",
              "      border-radius: 50%;\n",
              "      cursor: pointer;\n",
              "      display: none;\n",
              "      fill: #1967D2;\n",
              "      height: 32px;\n",
              "      padding: 0 0 0 0;\n",
              "      width: 32px;\n",
              "    }\n",
              "\n",
              "    .colab-df-convert:hover {\n",
              "      background-color: #E2EBFA;\n",
              "      box-shadow: 0px 1px 2px rgba(60, 64, 67, 0.3), 0px 1px 3px 1px rgba(60, 64, 67, 0.15);\n",
              "      fill: #174EA6;\n",
              "    }\n",
              "\n",
              "    .colab-df-buttons div {\n",
              "      margin-bottom: 4px;\n",
              "    }\n",
              "\n",
              "    [theme=dark] .colab-df-convert {\n",
              "      background-color: #3B4455;\n",
              "      fill: #D2E3FC;\n",
              "    }\n",
              "\n",
              "    [theme=dark] .colab-df-convert:hover {\n",
              "      background-color: #434B5C;\n",
              "      box-shadow: 0px 1px 3px 1px rgba(0, 0, 0, 0.15);\n",
              "      filter: drop-shadow(0px 1px 2px rgba(0, 0, 0, 0.3));\n",
              "      fill: #FFFFFF;\n",
              "    }\n",
              "  </style>\n",
              "\n",
              "    <script>\n",
              "      const buttonEl =\n",
              "        document.querySelector('#df-23ca2719-56a2-4809-915d-88a9f5cfeb20 button.colab-df-convert');\n",
              "      buttonEl.style.display =\n",
              "        google.colab.kernel.accessAllowed ? 'block' : 'none';\n",
              "\n",
              "      async function convertToInteractive(key) {\n",
              "        const element = document.querySelector('#df-23ca2719-56a2-4809-915d-88a9f5cfeb20');\n",
              "        const dataTable =\n",
              "          await google.colab.kernel.invokeFunction('convertToInteractive',\n",
              "                                                    [key], {});\n",
              "        if (!dataTable) return;\n",
              "\n",
              "        const docLinkHtml = 'Like what you see? Visit the ' +\n",
              "          '<a target=\"_blank\" href=https://colab.research.google.com/notebooks/data_table.ipynb>data table notebook</a>'\n",
              "          + ' to learn more about interactive tables.';\n",
              "        element.innerHTML = '';\n",
              "        dataTable['output_type'] = 'display_data';\n",
              "        await google.colab.output.renderOutput(dataTable, element);\n",
              "        const docLink = document.createElement('div');\n",
              "        docLink.innerHTML = docLinkHtml;\n",
              "        element.appendChild(docLink);\n",
              "      }\n",
              "    </script>\n",
              "  </div>\n",
              "\n",
              "\n",
              "<div id=\"df-867a9ad7-3650-44e3-866e-3e632fbe83e2\">\n",
              "  <button class=\"colab-df-quickchart\" onclick=\"quickchart('df-867a9ad7-3650-44e3-866e-3e632fbe83e2')\"\n",
              "            title=\"Suggest charts\"\n",
              "            style=\"display:none;\">\n",
              "\n",
              "<svg xmlns=\"http://www.w3.org/2000/svg\" height=\"24px\"viewBox=\"0 0 24 24\"\n",
              "     width=\"24px\">\n",
              "    <g>\n",
              "        <path d=\"M19 3H5c-1.1 0-2 .9-2 2v14c0 1.1.9 2 2 2h14c1.1 0 2-.9 2-2V5c0-1.1-.9-2-2-2zM9 17H7v-7h2v7zm4 0h-2V7h2v10zm4 0h-2v-4h2v4z\"/>\n",
              "    </g>\n",
              "</svg>\n",
              "  </button>\n",
              "\n",
              "<style>\n",
              "  .colab-df-quickchart {\n",
              "      --bg-color: #E8F0FE;\n",
              "      --fill-color: #1967D2;\n",
              "      --hover-bg-color: #E2EBFA;\n",
              "      --hover-fill-color: #174EA6;\n",
              "      --disabled-fill-color: #AAA;\n",
              "      --disabled-bg-color: #DDD;\n",
              "  }\n",
              "\n",
              "  [theme=dark] .colab-df-quickchart {\n",
              "      --bg-color: #3B4455;\n",
              "      --fill-color: #D2E3FC;\n",
              "      --hover-bg-color: #434B5C;\n",
              "      --hover-fill-color: #FFFFFF;\n",
              "      --disabled-bg-color: #3B4455;\n",
              "      --disabled-fill-color: #666;\n",
              "  }\n",
              "\n",
              "  .colab-df-quickchart {\n",
              "    background-color: var(--bg-color);\n",
              "    border: none;\n",
              "    border-radius: 50%;\n",
              "    cursor: pointer;\n",
              "    display: none;\n",
              "    fill: var(--fill-color);\n",
              "    height: 32px;\n",
              "    padding: 0;\n",
              "    width: 32px;\n",
              "  }\n",
              "\n",
              "  .colab-df-quickchart:hover {\n",
              "    background-color: var(--hover-bg-color);\n",
              "    box-shadow: 0 1px 2px rgba(60, 64, 67, 0.3), 0 1px 3px 1px rgba(60, 64, 67, 0.15);\n",
              "    fill: var(--button-hover-fill-color);\n",
              "  }\n",
              "\n",
              "  .colab-df-quickchart-complete:disabled,\n",
              "  .colab-df-quickchart-complete:disabled:hover {\n",
              "    background-color: var(--disabled-bg-color);\n",
              "    fill: var(--disabled-fill-color);\n",
              "    box-shadow: none;\n",
              "  }\n",
              "\n",
              "  .colab-df-spinner {\n",
              "    border: 2px solid var(--fill-color);\n",
              "    border-color: transparent;\n",
              "    border-bottom-color: var(--fill-color);\n",
              "    animation:\n",
              "      spin 1s steps(1) infinite;\n",
              "  }\n",
              "\n",
              "  @keyframes spin {\n",
              "    0% {\n",
              "      border-color: transparent;\n",
              "      border-bottom-color: var(--fill-color);\n",
              "      border-left-color: var(--fill-color);\n",
              "    }\n",
              "    20% {\n",
              "      border-color: transparent;\n",
              "      border-left-color: var(--fill-color);\n",
              "      border-top-color: var(--fill-color);\n",
              "    }\n",
              "    30% {\n",
              "      border-color: transparent;\n",
              "      border-left-color: var(--fill-color);\n",
              "      border-top-color: var(--fill-color);\n",
              "      border-right-color: var(--fill-color);\n",
              "    }\n",
              "    40% {\n",
              "      border-color: transparent;\n",
              "      border-right-color: var(--fill-color);\n",
              "      border-top-color: var(--fill-color);\n",
              "    }\n",
              "    60% {\n",
              "      border-color: transparent;\n",
              "      border-right-color: var(--fill-color);\n",
              "    }\n",
              "    80% {\n",
              "      border-color: transparent;\n",
              "      border-right-color: var(--fill-color);\n",
              "      border-bottom-color: var(--fill-color);\n",
              "    }\n",
              "    90% {\n",
              "      border-color: transparent;\n",
              "      border-bottom-color: var(--fill-color);\n",
              "    }\n",
              "  }\n",
              "</style>\n",
              "\n",
              "  <script>\n",
              "    async function quickchart(key) {\n",
              "      const quickchartButtonEl =\n",
              "        document.querySelector('#' + key + ' button');\n",
              "      quickchartButtonEl.disabled = true;  // To prevent multiple clicks.\n",
              "      quickchartButtonEl.classList.add('colab-df-spinner');\n",
              "      try {\n",
              "        const charts = await google.colab.kernel.invokeFunction(\n",
              "            'suggestCharts', [key], {});\n",
              "      } catch (error) {\n",
              "        console.error('Error during call to suggestCharts:', error);\n",
              "      }\n",
              "      quickchartButtonEl.classList.remove('colab-df-spinner');\n",
              "      quickchartButtonEl.classList.add('colab-df-quickchart-complete');\n",
              "    }\n",
              "    (() => {\n",
              "      let quickchartButtonEl =\n",
              "        document.querySelector('#df-867a9ad7-3650-44e3-866e-3e632fbe83e2 button');\n",
              "      quickchartButtonEl.style.display =\n",
              "        google.colab.kernel.accessAllowed ? 'block' : 'none';\n",
              "    })();\n",
              "  </script>\n",
              "</div>\n",
              "\n",
              "    </div>\n",
              "  </div>\n"
            ],
            "application/vnd.google.colaboratory.intrinsic+json": {
              "type": "dataframe",
              "variable_name": "df"
            }
          },
          "metadata": {},
          "execution_count": 102
        }
      ]
    },
    {
      "cell_type": "code",
      "execution_count": 103,
      "id": "KZXuZ7pAjwfm",
      "metadata": {
        "colab": {
          "base_uri": "https://localhost:8080/"
        },
        "id": "KZXuZ7pAjwfm",
        "outputId": "3523b2e5-2ad7-48ed-8a82-10e6c98aa73a"
      },
      "outputs": [
        {
          "output_type": "execute_result",
          "data": {
            "text/plain": [
              "Index(['Time', 'V1', 'V2', 'V3', 'V4', 'V5', 'V6', 'V7', 'V8', 'V9', 'V10',\n",
              "       'V11', 'V12', 'V13', 'V14', 'V15', 'V16', 'V17', 'V18', 'V19', 'V20',\n",
              "       'V21', 'V22', 'V23', 'V24', 'V25', 'V26', 'V27', 'V28', 'Amount',\n",
              "       'Class'],\n",
              "      dtype='object')"
            ]
          },
          "metadata": {},
          "execution_count": 103
        }
      ],
      "source": [
        "# Listado de columnas del dataset\n",
        "df.columns"
      ]
    },
    {
      "cell_type": "code",
      "execution_count": 104,
      "id": "CHw6VXinjyaY",
      "metadata": {
        "colab": {
          "base_uri": "https://localhost:8080/"
        },
        "id": "CHw6VXinjyaY",
        "outputId": "4657bea5-601f-4f3d-fb2a-d93ffc93966a"
      },
      "outputs": [
        {
          "output_type": "stream",
          "name": "stdout",
          "text": [
            "<class 'pandas.core.frame.DataFrame'>\n",
            "RangeIndex: 284807 entries, 0 to 284806\n",
            "Data columns (total 31 columns):\n",
            " #   Column  Non-Null Count   Dtype  \n",
            "---  ------  --------------   -----  \n",
            " 0   Time    284807 non-null  float64\n",
            " 1   V1      284807 non-null  float64\n",
            " 2   V2      284807 non-null  float64\n",
            " 3   V3      284807 non-null  float64\n",
            " 4   V4      284807 non-null  float64\n",
            " 5   V5      284807 non-null  float64\n",
            " 6   V6      284807 non-null  float64\n",
            " 7   V7      284807 non-null  float64\n",
            " 8   V8      284807 non-null  float64\n",
            " 9   V9      284807 non-null  float64\n",
            " 10  V10     284807 non-null  float64\n",
            " 11  V11     284807 non-null  float64\n",
            " 12  V12     284807 non-null  float64\n",
            " 13  V13     284807 non-null  float64\n",
            " 14  V14     284807 non-null  float64\n",
            " 15  V15     284807 non-null  float64\n",
            " 16  V16     284807 non-null  float64\n",
            " 17  V17     284807 non-null  float64\n",
            " 18  V18     284807 non-null  float64\n",
            " 19  V19     284807 non-null  float64\n",
            " 20  V20     284807 non-null  float64\n",
            " 21  V21     284807 non-null  float64\n",
            " 22  V22     284807 non-null  float64\n",
            " 23  V23     284807 non-null  float64\n",
            " 24  V24     284807 non-null  float64\n",
            " 25  V25     284807 non-null  float64\n",
            " 26  V26     284807 non-null  float64\n",
            " 27  V27     284807 non-null  float64\n",
            " 28  V28     284807 non-null  float64\n",
            " 29  Amount  284807 non-null  float64\n",
            " 30  Class   284807 non-null  int64  \n",
            "dtypes: float64(30), int64(1)\n",
            "memory usage: 67.4 MB\n"
          ]
        }
      ],
      "source": [
        "# Tenemos 30 columnas numéricas. No existen valores nulos.\n",
        "df.info()"
      ]
    },
    {
      "cell_type": "code",
      "execution_count": 105,
      "id": "nePPlgTjjq24",
      "metadata": {
        "colab": {
          "base_uri": "https://localhost:8080/",
          "height": 350
        },
        "id": "nePPlgTjjq24",
        "outputId": "fa2d5186-b265-4fdd-c182-fbb8bf18d97e"
      },
      "outputs": [
        {
          "output_type": "execute_result",
          "data": {
            "text/plain": [
              "                Time            V1            V2            V3            V4  \\\n",
              "count  284807.000000  2.848070e+05  2.848070e+05  2.848070e+05  2.848070e+05   \n",
              "mean    94813.859575  1.168375e-15  3.416908e-16 -1.379537e-15  2.074095e-15   \n",
              "std     47488.145955  1.958696e+00  1.651309e+00  1.516255e+00  1.415869e+00   \n",
              "min         0.000000 -5.640751e+01 -7.271573e+01 -4.832559e+01 -5.683171e+00   \n",
              "25%     54201.500000 -9.203734e-01 -5.985499e-01 -8.903648e-01 -8.486401e-01   \n",
              "50%     84692.000000  1.810880e-02  6.548556e-02  1.798463e-01 -1.984653e-02   \n",
              "75%    139320.500000  1.315642e+00  8.037239e-01  1.027196e+00  7.433413e-01   \n",
              "max    172792.000000  2.454930e+00  2.205773e+01  9.382558e+00  1.687534e+01   \n",
              "\n",
              "                 V5            V6            V7            V8            V9  \\\n",
              "count  2.848070e+05  2.848070e+05  2.848070e+05  2.848070e+05  2.848070e+05   \n",
              "mean   9.604066e-16  1.487313e-15 -5.556467e-16  1.213481e-16 -2.406331e-15   \n",
              "std    1.380247e+00  1.332271e+00  1.237094e+00  1.194353e+00  1.098632e+00   \n",
              "min   -1.137433e+02 -2.616051e+01 -4.355724e+01 -7.321672e+01 -1.343407e+01   \n",
              "25%   -6.915971e-01 -7.682956e-01 -5.540759e-01 -2.086297e-01 -6.430976e-01   \n",
              "50%   -5.433583e-02 -2.741871e-01  4.010308e-02  2.235804e-02 -5.142873e-02   \n",
              "75%    6.119264e-01  3.985649e-01  5.704361e-01  3.273459e-01  5.971390e-01   \n",
              "max    3.480167e+01  7.330163e+01  1.205895e+02  2.000721e+01  1.559499e+01   \n",
              "\n",
              "       ...           V21           V22           V23           V24  \\\n",
              "count  ...  2.848070e+05  2.848070e+05  2.848070e+05  2.848070e+05   \n",
              "mean   ...  1.654067e-16 -3.568593e-16  2.578648e-16  4.473266e-15   \n",
              "std    ...  7.345240e-01  7.257016e-01  6.244603e-01  6.056471e-01   \n",
              "min    ... -3.483038e+01 -1.093314e+01 -4.480774e+01 -2.836627e+00   \n",
              "25%    ... -2.283949e-01 -5.423504e-01 -1.618463e-01 -3.545861e-01   \n",
              "50%    ... -2.945017e-02  6.781943e-03 -1.119293e-02  4.097606e-02   \n",
              "75%    ...  1.863772e-01  5.285536e-01  1.476421e-01  4.395266e-01   \n",
              "max    ...  2.720284e+01  1.050309e+01  2.252841e+01  4.584549e+00   \n",
              "\n",
              "                V25           V26           V27           V28         Amount  \\\n",
              "count  2.848070e+05  2.848070e+05  2.848070e+05  2.848070e+05  284807.000000   \n",
              "mean   5.340915e-16  1.683437e-15 -3.660091e-16 -1.227390e-16      88.349619   \n",
              "std    5.212781e-01  4.822270e-01  4.036325e-01  3.300833e-01     250.120109   \n",
              "min   -1.029540e+01 -2.604551e+00 -2.256568e+01 -1.543008e+01       0.000000   \n",
              "25%   -3.171451e-01 -3.269839e-01 -7.083953e-02 -5.295979e-02       5.600000   \n",
              "50%    1.659350e-02 -5.213911e-02  1.342146e-03  1.124383e-02      22.000000   \n",
              "75%    3.507156e-01  2.409522e-01  9.104512e-02  7.827995e-02      77.165000   \n",
              "max    7.519589e+00  3.517346e+00  3.161220e+01  3.384781e+01   25691.160000   \n",
              "\n",
              "               Class  \n",
              "count  284807.000000  \n",
              "mean        0.001727  \n",
              "std         0.041527  \n",
              "min         0.000000  \n",
              "25%         0.000000  \n",
              "50%         0.000000  \n",
              "75%         0.000000  \n",
              "max         1.000000  \n",
              "\n",
              "[8 rows x 31 columns]"
            ],
            "text/html": [
              "\n",
              "  <div id=\"df-d8a777a4-d741-48f0-ba9a-fc8e23c62d2c\" class=\"colab-df-container\">\n",
              "    <div>\n",
              "<style scoped>\n",
              "    .dataframe tbody tr th:only-of-type {\n",
              "        vertical-align: middle;\n",
              "    }\n",
              "\n",
              "    .dataframe tbody tr th {\n",
              "        vertical-align: top;\n",
              "    }\n",
              "\n",
              "    .dataframe thead th {\n",
              "        text-align: right;\n",
              "    }\n",
              "</style>\n",
              "<table border=\"1\" class=\"dataframe\">\n",
              "  <thead>\n",
              "    <tr style=\"text-align: right;\">\n",
              "      <th></th>\n",
              "      <th>Time</th>\n",
              "      <th>V1</th>\n",
              "      <th>V2</th>\n",
              "      <th>V3</th>\n",
              "      <th>V4</th>\n",
              "      <th>V5</th>\n",
              "      <th>V6</th>\n",
              "      <th>V7</th>\n",
              "      <th>V8</th>\n",
              "      <th>V9</th>\n",
              "      <th>...</th>\n",
              "      <th>V21</th>\n",
              "      <th>V22</th>\n",
              "      <th>V23</th>\n",
              "      <th>V24</th>\n",
              "      <th>V25</th>\n",
              "      <th>V26</th>\n",
              "      <th>V27</th>\n",
              "      <th>V28</th>\n",
              "      <th>Amount</th>\n",
              "      <th>Class</th>\n",
              "    </tr>\n",
              "  </thead>\n",
              "  <tbody>\n",
              "    <tr>\n",
              "      <th>count</th>\n",
              "      <td>284807.000000</td>\n",
              "      <td>2.848070e+05</td>\n",
              "      <td>2.848070e+05</td>\n",
              "      <td>2.848070e+05</td>\n",
              "      <td>2.848070e+05</td>\n",
              "      <td>2.848070e+05</td>\n",
              "      <td>2.848070e+05</td>\n",
              "      <td>2.848070e+05</td>\n",
              "      <td>2.848070e+05</td>\n",
              "      <td>2.848070e+05</td>\n",
              "      <td>...</td>\n",
              "      <td>2.848070e+05</td>\n",
              "      <td>2.848070e+05</td>\n",
              "      <td>2.848070e+05</td>\n",
              "      <td>2.848070e+05</td>\n",
              "      <td>2.848070e+05</td>\n",
              "      <td>2.848070e+05</td>\n",
              "      <td>2.848070e+05</td>\n",
              "      <td>2.848070e+05</td>\n",
              "      <td>284807.000000</td>\n",
              "      <td>284807.000000</td>\n",
              "    </tr>\n",
              "    <tr>\n",
              "      <th>mean</th>\n",
              "      <td>94813.859575</td>\n",
              "      <td>1.168375e-15</td>\n",
              "      <td>3.416908e-16</td>\n",
              "      <td>-1.379537e-15</td>\n",
              "      <td>2.074095e-15</td>\n",
              "      <td>9.604066e-16</td>\n",
              "      <td>1.487313e-15</td>\n",
              "      <td>-5.556467e-16</td>\n",
              "      <td>1.213481e-16</td>\n",
              "      <td>-2.406331e-15</td>\n",
              "      <td>...</td>\n",
              "      <td>1.654067e-16</td>\n",
              "      <td>-3.568593e-16</td>\n",
              "      <td>2.578648e-16</td>\n",
              "      <td>4.473266e-15</td>\n",
              "      <td>5.340915e-16</td>\n",
              "      <td>1.683437e-15</td>\n",
              "      <td>-3.660091e-16</td>\n",
              "      <td>-1.227390e-16</td>\n",
              "      <td>88.349619</td>\n",
              "      <td>0.001727</td>\n",
              "    </tr>\n",
              "    <tr>\n",
              "      <th>std</th>\n",
              "      <td>47488.145955</td>\n",
              "      <td>1.958696e+00</td>\n",
              "      <td>1.651309e+00</td>\n",
              "      <td>1.516255e+00</td>\n",
              "      <td>1.415869e+00</td>\n",
              "      <td>1.380247e+00</td>\n",
              "      <td>1.332271e+00</td>\n",
              "      <td>1.237094e+00</td>\n",
              "      <td>1.194353e+00</td>\n",
              "      <td>1.098632e+00</td>\n",
              "      <td>...</td>\n",
              "      <td>7.345240e-01</td>\n",
              "      <td>7.257016e-01</td>\n",
              "      <td>6.244603e-01</td>\n",
              "      <td>6.056471e-01</td>\n",
              "      <td>5.212781e-01</td>\n",
              "      <td>4.822270e-01</td>\n",
              "      <td>4.036325e-01</td>\n",
              "      <td>3.300833e-01</td>\n",
              "      <td>250.120109</td>\n",
              "      <td>0.041527</td>\n",
              "    </tr>\n",
              "    <tr>\n",
              "      <th>min</th>\n",
              "      <td>0.000000</td>\n",
              "      <td>-5.640751e+01</td>\n",
              "      <td>-7.271573e+01</td>\n",
              "      <td>-4.832559e+01</td>\n",
              "      <td>-5.683171e+00</td>\n",
              "      <td>-1.137433e+02</td>\n",
              "      <td>-2.616051e+01</td>\n",
              "      <td>-4.355724e+01</td>\n",
              "      <td>-7.321672e+01</td>\n",
              "      <td>-1.343407e+01</td>\n",
              "      <td>...</td>\n",
              "      <td>-3.483038e+01</td>\n",
              "      <td>-1.093314e+01</td>\n",
              "      <td>-4.480774e+01</td>\n",
              "      <td>-2.836627e+00</td>\n",
              "      <td>-1.029540e+01</td>\n",
              "      <td>-2.604551e+00</td>\n",
              "      <td>-2.256568e+01</td>\n",
              "      <td>-1.543008e+01</td>\n",
              "      <td>0.000000</td>\n",
              "      <td>0.000000</td>\n",
              "    </tr>\n",
              "    <tr>\n",
              "      <th>25%</th>\n",
              "      <td>54201.500000</td>\n",
              "      <td>-9.203734e-01</td>\n",
              "      <td>-5.985499e-01</td>\n",
              "      <td>-8.903648e-01</td>\n",
              "      <td>-8.486401e-01</td>\n",
              "      <td>-6.915971e-01</td>\n",
              "      <td>-7.682956e-01</td>\n",
              "      <td>-5.540759e-01</td>\n",
              "      <td>-2.086297e-01</td>\n",
              "      <td>-6.430976e-01</td>\n",
              "      <td>...</td>\n",
              "      <td>-2.283949e-01</td>\n",
              "      <td>-5.423504e-01</td>\n",
              "      <td>-1.618463e-01</td>\n",
              "      <td>-3.545861e-01</td>\n",
              "      <td>-3.171451e-01</td>\n",
              "      <td>-3.269839e-01</td>\n",
              "      <td>-7.083953e-02</td>\n",
              "      <td>-5.295979e-02</td>\n",
              "      <td>5.600000</td>\n",
              "      <td>0.000000</td>\n",
              "    </tr>\n",
              "    <tr>\n",
              "      <th>50%</th>\n",
              "      <td>84692.000000</td>\n",
              "      <td>1.810880e-02</td>\n",
              "      <td>6.548556e-02</td>\n",
              "      <td>1.798463e-01</td>\n",
              "      <td>-1.984653e-02</td>\n",
              "      <td>-5.433583e-02</td>\n",
              "      <td>-2.741871e-01</td>\n",
              "      <td>4.010308e-02</td>\n",
              "      <td>2.235804e-02</td>\n",
              "      <td>-5.142873e-02</td>\n",
              "      <td>...</td>\n",
              "      <td>-2.945017e-02</td>\n",
              "      <td>6.781943e-03</td>\n",
              "      <td>-1.119293e-02</td>\n",
              "      <td>4.097606e-02</td>\n",
              "      <td>1.659350e-02</td>\n",
              "      <td>-5.213911e-02</td>\n",
              "      <td>1.342146e-03</td>\n",
              "      <td>1.124383e-02</td>\n",
              "      <td>22.000000</td>\n",
              "      <td>0.000000</td>\n",
              "    </tr>\n",
              "    <tr>\n",
              "      <th>75%</th>\n",
              "      <td>139320.500000</td>\n",
              "      <td>1.315642e+00</td>\n",
              "      <td>8.037239e-01</td>\n",
              "      <td>1.027196e+00</td>\n",
              "      <td>7.433413e-01</td>\n",
              "      <td>6.119264e-01</td>\n",
              "      <td>3.985649e-01</td>\n",
              "      <td>5.704361e-01</td>\n",
              "      <td>3.273459e-01</td>\n",
              "      <td>5.971390e-01</td>\n",
              "      <td>...</td>\n",
              "      <td>1.863772e-01</td>\n",
              "      <td>5.285536e-01</td>\n",
              "      <td>1.476421e-01</td>\n",
              "      <td>4.395266e-01</td>\n",
              "      <td>3.507156e-01</td>\n",
              "      <td>2.409522e-01</td>\n",
              "      <td>9.104512e-02</td>\n",
              "      <td>7.827995e-02</td>\n",
              "      <td>77.165000</td>\n",
              "      <td>0.000000</td>\n",
              "    </tr>\n",
              "    <tr>\n",
              "      <th>max</th>\n",
              "      <td>172792.000000</td>\n",
              "      <td>2.454930e+00</td>\n",
              "      <td>2.205773e+01</td>\n",
              "      <td>9.382558e+00</td>\n",
              "      <td>1.687534e+01</td>\n",
              "      <td>3.480167e+01</td>\n",
              "      <td>7.330163e+01</td>\n",
              "      <td>1.205895e+02</td>\n",
              "      <td>2.000721e+01</td>\n",
              "      <td>1.559499e+01</td>\n",
              "      <td>...</td>\n",
              "      <td>2.720284e+01</td>\n",
              "      <td>1.050309e+01</td>\n",
              "      <td>2.252841e+01</td>\n",
              "      <td>4.584549e+00</td>\n",
              "      <td>7.519589e+00</td>\n",
              "      <td>3.517346e+00</td>\n",
              "      <td>3.161220e+01</td>\n",
              "      <td>3.384781e+01</td>\n",
              "      <td>25691.160000</td>\n",
              "      <td>1.000000</td>\n",
              "    </tr>\n",
              "  </tbody>\n",
              "</table>\n",
              "<p>8 rows × 31 columns</p>\n",
              "</div>\n",
              "    <div class=\"colab-df-buttons\">\n",
              "\n",
              "  <div class=\"colab-df-container\">\n",
              "    <button class=\"colab-df-convert\" onclick=\"convertToInteractive('df-d8a777a4-d741-48f0-ba9a-fc8e23c62d2c')\"\n",
              "            title=\"Convert this dataframe to an interactive table.\"\n",
              "            style=\"display:none;\">\n",
              "\n",
              "  <svg xmlns=\"http://www.w3.org/2000/svg\" height=\"24px\" viewBox=\"0 -960 960 960\">\n",
              "    <path d=\"M120-120v-720h720v720H120Zm60-500h600v-160H180v160Zm220 220h160v-160H400v160Zm0 220h160v-160H400v160ZM180-400h160v-160H180v160Zm440 0h160v-160H620v160ZM180-180h160v-160H180v160Zm440 0h160v-160H620v160Z\"/>\n",
              "  </svg>\n",
              "    </button>\n",
              "\n",
              "  <style>\n",
              "    .colab-df-container {\n",
              "      display:flex;\n",
              "      gap: 12px;\n",
              "    }\n",
              "\n",
              "    .colab-df-convert {\n",
              "      background-color: #E8F0FE;\n",
              "      border: none;\n",
              "      border-radius: 50%;\n",
              "      cursor: pointer;\n",
              "      display: none;\n",
              "      fill: #1967D2;\n",
              "      height: 32px;\n",
              "      padding: 0 0 0 0;\n",
              "      width: 32px;\n",
              "    }\n",
              "\n",
              "    .colab-df-convert:hover {\n",
              "      background-color: #E2EBFA;\n",
              "      box-shadow: 0px 1px 2px rgba(60, 64, 67, 0.3), 0px 1px 3px 1px rgba(60, 64, 67, 0.15);\n",
              "      fill: #174EA6;\n",
              "    }\n",
              "\n",
              "    .colab-df-buttons div {\n",
              "      margin-bottom: 4px;\n",
              "    }\n",
              "\n",
              "    [theme=dark] .colab-df-convert {\n",
              "      background-color: #3B4455;\n",
              "      fill: #D2E3FC;\n",
              "    }\n",
              "\n",
              "    [theme=dark] .colab-df-convert:hover {\n",
              "      background-color: #434B5C;\n",
              "      box-shadow: 0px 1px 3px 1px rgba(0, 0, 0, 0.15);\n",
              "      filter: drop-shadow(0px 1px 2px rgba(0, 0, 0, 0.3));\n",
              "      fill: #FFFFFF;\n",
              "    }\n",
              "  </style>\n",
              "\n",
              "    <script>\n",
              "      const buttonEl =\n",
              "        document.querySelector('#df-d8a777a4-d741-48f0-ba9a-fc8e23c62d2c button.colab-df-convert');\n",
              "      buttonEl.style.display =\n",
              "        google.colab.kernel.accessAllowed ? 'block' : 'none';\n",
              "\n",
              "      async function convertToInteractive(key) {\n",
              "        const element = document.querySelector('#df-d8a777a4-d741-48f0-ba9a-fc8e23c62d2c');\n",
              "        const dataTable =\n",
              "          await google.colab.kernel.invokeFunction('convertToInteractive',\n",
              "                                                    [key], {});\n",
              "        if (!dataTable) return;\n",
              "\n",
              "        const docLinkHtml = 'Like what you see? Visit the ' +\n",
              "          '<a target=\"_blank\" href=https://colab.research.google.com/notebooks/data_table.ipynb>data table notebook</a>'\n",
              "          + ' to learn more about interactive tables.';\n",
              "        element.innerHTML = '';\n",
              "        dataTable['output_type'] = 'display_data';\n",
              "        await google.colab.output.renderOutput(dataTable, element);\n",
              "        const docLink = document.createElement('div');\n",
              "        docLink.innerHTML = docLinkHtml;\n",
              "        element.appendChild(docLink);\n",
              "      }\n",
              "    </script>\n",
              "  </div>\n",
              "\n",
              "\n",
              "<div id=\"df-fbeb7055-2750-4e89-8174-16b7c3037295\">\n",
              "  <button class=\"colab-df-quickchart\" onclick=\"quickchart('df-fbeb7055-2750-4e89-8174-16b7c3037295')\"\n",
              "            title=\"Suggest charts\"\n",
              "            style=\"display:none;\">\n",
              "\n",
              "<svg xmlns=\"http://www.w3.org/2000/svg\" height=\"24px\"viewBox=\"0 0 24 24\"\n",
              "     width=\"24px\">\n",
              "    <g>\n",
              "        <path d=\"M19 3H5c-1.1 0-2 .9-2 2v14c0 1.1.9 2 2 2h14c1.1 0 2-.9 2-2V5c0-1.1-.9-2-2-2zM9 17H7v-7h2v7zm4 0h-2V7h2v10zm4 0h-2v-4h2v4z\"/>\n",
              "    </g>\n",
              "</svg>\n",
              "  </button>\n",
              "\n",
              "<style>\n",
              "  .colab-df-quickchart {\n",
              "      --bg-color: #E8F0FE;\n",
              "      --fill-color: #1967D2;\n",
              "      --hover-bg-color: #E2EBFA;\n",
              "      --hover-fill-color: #174EA6;\n",
              "      --disabled-fill-color: #AAA;\n",
              "      --disabled-bg-color: #DDD;\n",
              "  }\n",
              "\n",
              "  [theme=dark] .colab-df-quickchart {\n",
              "      --bg-color: #3B4455;\n",
              "      --fill-color: #D2E3FC;\n",
              "      --hover-bg-color: #434B5C;\n",
              "      --hover-fill-color: #FFFFFF;\n",
              "      --disabled-bg-color: #3B4455;\n",
              "      --disabled-fill-color: #666;\n",
              "  }\n",
              "\n",
              "  .colab-df-quickchart {\n",
              "    background-color: var(--bg-color);\n",
              "    border: none;\n",
              "    border-radius: 50%;\n",
              "    cursor: pointer;\n",
              "    display: none;\n",
              "    fill: var(--fill-color);\n",
              "    height: 32px;\n",
              "    padding: 0;\n",
              "    width: 32px;\n",
              "  }\n",
              "\n",
              "  .colab-df-quickchart:hover {\n",
              "    background-color: var(--hover-bg-color);\n",
              "    box-shadow: 0 1px 2px rgba(60, 64, 67, 0.3), 0 1px 3px 1px rgba(60, 64, 67, 0.15);\n",
              "    fill: var(--button-hover-fill-color);\n",
              "  }\n",
              "\n",
              "  .colab-df-quickchart-complete:disabled,\n",
              "  .colab-df-quickchart-complete:disabled:hover {\n",
              "    background-color: var(--disabled-bg-color);\n",
              "    fill: var(--disabled-fill-color);\n",
              "    box-shadow: none;\n",
              "  }\n",
              "\n",
              "  .colab-df-spinner {\n",
              "    border: 2px solid var(--fill-color);\n",
              "    border-color: transparent;\n",
              "    border-bottom-color: var(--fill-color);\n",
              "    animation:\n",
              "      spin 1s steps(1) infinite;\n",
              "  }\n",
              "\n",
              "  @keyframes spin {\n",
              "    0% {\n",
              "      border-color: transparent;\n",
              "      border-bottom-color: var(--fill-color);\n",
              "      border-left-color: var(--fill-color);\n",
              "    }\n",
              "    20% {\n",
              "      border-color: transparent;\n",
              "      border-left-color: var(--fill-color);\n",
              "      border-top-color: var(--fill-color);\n",
              "    }\n",
              "    30% {\n",
              "      border-color: transparent;\n",
              "      border-left-color: var(--fill-color);\n",
              "      border-top-color: var(--fill-color);\n",
              "      border-right-color: var(--fill-color);\n",
              "    }\n",
              "    40% {\n",
              "      border-color: transparent;\n",
              "      border-right-color: var(--fill-color);\n",
              "      border-top-color: var(--fill-color);\n",
              "    }\n",
              "    60% {\n",
              "      border-color: transparent;\n",
              "      border-right-color: var(--fill-color);\n",
              "    }\n",
              "    80% {\n",
              "      border-color: transparent;\n",
              "      border-right-color: var(--fill-color);\n",
              "      border-bottom-color: var(--fill-color);\n",
              "    }\n",
              "    90% {\n",
              "      border-color: transparent;\n",
              "      border-bottom-color: var(--fill-color);\n",
              "    }\n",
              "  }\n",
              "</style>\n",
              "\n",
              "  <script>\n",
              "    async function quickchart(key) {\n",
              "      const quickchartButtonEl =\n",
              "        document.querySelector('#' + key + ' button');\n",
              "      quickchartButtonEl.disabled = true;  // To prevent multiple clicks.\n",
              "      quickchartButtonEl.classList.add('colab-df-spinner');\n",
              "      try {\n",
              "        const charts = await google.colab.kernel.invokeFunction(\n",
              "            'suggestCharts', [key], {});\n",
              "      } catch (error) {\n",
              "        console.error('Error during call to suggestCharts:', error);\n",
              "      }\n",
              "      quickchartButtonEl.classList.remove('colab-df-spinner');\n",
              "      quickchartButtonEl.classList.add('colab-df-quickchart-complete');\n",
              "    }\n",
              "    (() => {\n",
              "      let quickchartButtonEl =\n",
              "        document.querySelector('#df-fbeb7055-2750-4e89-8174-16b7c3037295 button');\n",
              "      quickchartButtonEl.style.display =\n",
              "        google.colab.kernel.accessAllowed ? 'block' : 'none';\n",
              "    })();\n",
              "  </script>\n",
              "</div>\n",
              "\n",
              "    </div>\n",
              "  </div>\n"
            ],
            "application/vnd.google.colaboratory.intrinsic+json": {
              "type": "dataframe"
            }
          },
          "metadata": {},
          "execution_count": 105
        }
      ],
      "source": [
        "#Analizamos los principales valores estadisticos de las variables del dataset.\n",
        "df.describe()"
      ]
    },
    {
      "cell_type": "code",
      "execution_count": 106,
      "id": "TwJVhXdtkI6Y",
      "metadata": {
        "colab": {
          "base_uri": "https://localhost:8080/"
        },
        "id": "TwJVhXdtkI6Y",
        "outputId": "974ceff6-9ecb-4953-ea1c-d40d9d6a70a0"
      },
      "outputs": [
        {
          "output_type": "execute_result",
          "data": {
            "text/plain": [
              "array([0, 1])"
            ]
          },
          "metadata": {},
          "execution_count": 106
        }
      ],
      "source": [
        "#La columna Class posee 2 posibles valores. 1-->Fraund 0-->Non Fraud\n",
        "df['Class'].unique()"
      ]
    },
    {
      "cell_type": "code",
      "execution_count": 108,
      "id": "WyIHrqOyqZSo",
      "metadata": {
        "colab": {
          "base_uri": "https://localhost:8080/"
        },
        "id": "WyIHrqOyqZSo",
        "outputId": "6c9288a1-78a8-4a02-af84-fb5dc260b7d3"
      },
      "outputs": [
        {
          "output_type": "stream",
          "name": "stdout",
          "text": [
            "numero_transacciones_por_tipo:       Amount\n",
            "Class        \n",
            "0      284315\n",
            "1         492\n"
          ]
        }
      ],
      "source": [
        "#Existen 284.315 registros clasificados sin fraude y 492 con fraude\n",
        "numero_transacciones_por_tipo=df[['Class','Amount']].groupby('Class').count()\n",
        "print(\"numero_transacciones_por_tipo:{}\".format(numero_transacciones_por_tipo))"
      ]
    },
    {
      "cell_type": "code",
      "execution_count": null,
      "id": "0GCnPfCwsHUg",
      "metadata": {
        "colab": {
          "base_uri": "https://localhost:8080/",
          "height": 466
        },
        "id": "0GCnPfCwsHUg",
        "outputId": "e7c97e2e-c82e-432c-c4bd-09bddf1ce823"
      },
      "outputs": [
        {
          "data": {
            "text/plain": [
              "<Axes: xlabel='Class', ylabel='count'>"
            ]
          },
          "execution_count": 50,
          "metadata": {},
          "output_type": "execute_result"
        },
        {
          "data": {
            "image/png": "[encoded data removed]",
            "text/plain": [
              "<Figure size 640x480 with 1 Axes>"
            ]
          },
          "metadata": {},
          "output_type": "display_data"
        }
      ],
      "source": [
        "#Gráficamente el resultado anterior sería el siguiente\n",
        "sns.countplot(x='Class',data=df, legend='auto')"
      ]
    },
    {
      "cell_type": "markdown",
      "id": "f4bd8703",
      "metadata": {
        "id": "f4bd8703"
      },
      "source": [
        "\n",
        "<details><summary><b>Haz clic aquí para obtener una pista</b></summary>\n",
        "\n",
        "\n",
        "\n",
        "```\n",
        "Comienza por importar la biblioteca de pandas: import pandas as pd.\n",
        "    \n",
        "Utiliza la función read_csv() para cargar el archivo CSV en un dataframe de pandas. Especifica la ruta en los paréntesis, por ejemplo: pd.read_csv(\"ruta_al_archivo.csv\").\n",
        "    \n",
        "Asigna al dataframe resultante al nombre de una variable, por ejemplo: data = pd.read_csv(\"ruta_al_archivo.csv\").\n",
        "    \n",
        "Utiliza el método head() sobre el dataframe para mostrar las primeras 10 filas, por ejemplo: data.head(10).\n",
        "    \n",
        "Asegúrate de reemplazar \"ruta_al_archivo.csv\" con la ruta real a tu archivo y el nombre de tu archivo CSV..\n",
        "\n",
        "```\n",
        "\n",
        "\n",
        "\n",
        "</details>"
      ]
    },
    {
      "cell_type": "markdown",
      "id": "3d4fe1a9",
      "metadata": {
        "id": "3d4fe1a9"
      },
      "source": [
        "### Limpia los datos"
      ]
    },
    {
      "cell_type": "markdown",
      "id": "fe00f5bd",
      "metadata": {
        "id": "fe00f5bd"
      },
      "source": [
        "a. Valores perdidos"
      ]
    },
    {
      "cell_type": "code",
      "execution_count": 109,
      "id": "efd10e6f",
      "metadata": {
        "colab": {
          "base_uri": "https://localhost:8080/"
        },
        "id": "efd10e6f",
        "outputId": "c386239e-4def-4596-b1fd-26bebae2c08d"
      },
      "outputs": [
        {
          "output_type": "execute_result",
          "data": {
            "text/plain": [
              "Time      0\n",
              "V1        0\n",
              "V2        0\n",
              "V3        0\n",
              "V4        0\n",
              "V5        0\n",
              "V6        0\n",
              "V7        0\n",
              "V8        0\n",
              "V9        0\n",
              "V10       0\n",
              "V11       0\n",
              "V12       0\n",
              "V13       0\n",
              "V14       0\n",
              "V15       0\n",
              "V16       0\n",
              "V17       0\n",
              "V18       0\n",
              "V19       0\n",
              "V20       0\n",
              "V21       0\n",
              "V22       0\n",
              "V23       0\n",
              "V24       0\n",
              "V25       0\n",
              "V26       0\n",
              "V27       0\n",
              "V28       0\n",
              "Amount    0\n",
              "Class     0\n",
              "dtype: int64"
            ]
          },
          "metadata": {},
          "execution_count": 109
        }
      ],
      "source": [
        "#Nº de valores nulos\n",
        "df.isnull().sum()"
      ]
    },
    {
      "cell_type": "markdown",
      "id": "f377dddf",
      "metadata": {
        "id": "f377dddf"
      },
      "source": [
        "<details><summary><b>Haz clic aquí para obtener una pista</b></summary>\n",
        "\n",
        "\n",
        "\n",
        "```\n",
        "\n",
        "Utiliza el nombre de la variable del dataframe seguido del método isnull() para crear un dataframe booleano donde «verdadero» indique un valor nulo y «falso» indique un valor no nulo.\n",
        "\n",
        "Utiliza el método sum() en el dataframe booleano para contar la cantidad de valores verdaderos (i.e., la cantidad de valores nulos) en cada columna.\n",
        "\n",
        "Si unes ambos pasos, el código se verá así: data.isnull().sum()\n",
        "\n",
        "\n",
        "Este código asume que el nombre del datafrme de pandas es «data». Si tu dataframe tiene un nombre diferente, reemplaza «data» con el nombre correcto de la variable.\n",
        "\n",
        "```\n",
        "\n",
        "\n",
        "\n",
        "</details>"
      ]
    },
    {
      "cell_type": "markdown",
      "id": "4516036d",
      "metadata": {
        "id": "4516036d"
      },
      "source": [
        "b. Datos duplicados"
      ]
    },
    {
      "cell_type": "code",
      "execution_count": 110,
      "id": "da501911",
      "metadata": {
        "colab": {
          "base_uri": "https://localhost:8080/"
        },
        "id": "da501911",
        "outputId": "3ee50420-787e-4056-d57c-63de5cf62259"
      },
      "outputs": [
        {
          "output_type": "execute_result",
          "data": {
            "text/plain": [
              "1081"
            ]
          },
          "metadata": {},
          "execution_count": 110
        }
      ],
      "source": [
        "#Número valores duplicados\n",
        "df.duplicated().sum()"
      ]
    },
    {
      "cell_type": "code",
      "source": [
        "df.dropna(axis=1,inplace=True)"
      ],
      "metadata": {
        "id": "oKcvXAZjSexQ"
      },
      "id": "oKcvXAZjSexQ",
      "execution_count": 97,
      "outputs": []
    },
    {
      "cell_type": "code",
      "execution_count": 111,
      "id": "LwI-a2Yvs7iZ",
      "metadata": {
        "colab": {
          "base_uri": "https://localhost:8080/"
        },
        "id": "LwI-a2Yvs7iZ",
        "outputId": "36d44f75-cec7-4b3f-b379-675f080e41c3"
      },
      "outputs": [
        {
          "output_type": "stream",
          "name": "stdout",
          "text": [
            "total_con_duplicados:284807\n",
            "total_sin_duplicados:283726\n",
            "filas borradas: 1081\n"
          ]
        }
      ],
      "source": [
        "#Borramos duplicados\n",
        "total_con_duplicados=df['Class'].count()\n",
        "df.drop_duplicates(inplace=True)\n",
        "print(f\"total_con_duplicados:{total_con_duplicados}\")\n",
        "total_sin_duplicados=df['Class'].count()\n",
        "print(f\"total_sin_duplicados:{total_sin_duplicados}\")\n",
        "print(f\"filas borradas: {total_con_duplicados-total_sin_duplicados}\")\n"
      ]
    },
    {
      "cell_type": "markdown",
      "id": "3b028638",
      "metadata": {
        "id": "3b028638"
      },
      "source": [
        "<details><summary><b>Haz clic aquí para obtener una pista</b></summary>\n",
        "\n",
        "\n",
        "\n",
        "```\n",
        "Usa el nombre de la variable del dataframe seguido del método duplicated() para crear un dataframe booleano donde «verdadero» indicará una fila duplicada y «falso» una fila no duplicada.\n",
        "\n",
        "Usa el método sum() en el dataframe booleano para contar la cantidad de valores verdaderos (i.e., la cantidad de filas duplicadas).\n",
        "\n",
        "Si unes ambos pasos, el código se verá así: data.duplicated().sum()\n",
        "\n",
        "Este código asume que el nombre del dataframe de pandas es «data». Si tu dataframe tiene un nombre diferente, reemplaza «data» con el nombre correcto de la variable.\n",
        "\n",
        "```\n",
        "\n",
        "\n",
        "\n",
        "</details>"
      ]
    },
    {
      "cell_type": "markdown",
      "id": "b5119181",
      "metadata": {
        "id": "b5119181"
      },
      "source": [
        "### Analiza los datos"
      ]
    },
    {
      "cell_type": "markdown",
      "id": "5f9d6331",
      "metadata": {
        "id": "5f9d6331"
      },
      "source": [
        "Pregunta 1: ¿Cuál es el porcentaje de transacciones fraudulentas en el dataset?\n",
        "\n"
      ]
    },
    {
      "cell_type": "code",
      "execution_count": 112,
      "id": "fc08822c",
      "metadata": {
        "colab": {
          "base_uri": "https://localhost:8080/"
        },
        "id": "fc08822c",
        "outputId": "6fafbe4a-7548-4e7c-dfa8-a21d8e02d246"
      },
      "outputs": [
        {
          "output_type": "stream",
          "name": "stdout",
          "text": [
            "porcentaje_transacciones_fraudulentas:         Amount\n",
            "Class          \n",
            "0      99.83329\n",
            "1       0.16671\n"
          ]
        }
      ],
      "source": [
        "# Calcula el porcentaje de transacciones fraudulentas\n",
        "porcentaje_transacciones_fraudulentas= (df[['Class','Amount']].groupby('Class').count()/df['Class'].count())*100\n",
        "print(\"porcentaje_transacciones_fraudulentas:{}\".format(porcentaje_transacciones_fraudulentas))"
      ]
    },
    {
      "cell_type": "markdown",
      "id": "7446af09",
      "metadata": {
        "id": "7446af09"
      },
      "source": [
        "<details>\n",
        "  <summary><b>Haz clic aquí para obtener una pista</b></summary>\n",
        "\n",
        "    Para calcular el porcentaje de transacciones fraudulentas, debes contar la cantidad de transacciones fraudulentas (aquellas donde «Class» es igual a 1) y dividirla por le número total de transacciones en el dataset. Después, multiplica el resultado por 100 para obtener el porcentaje.\n",
        "</details>"
      ]
    },
    {
      "cell_type": "markdown",
      "id": "906ae755",
      "metadata": {
        "id": "906ae755"
      },
      "source": [
        "Pregunta 2: ¿Cuál es el importe medio de las transacciones fraudulentas?\n",
        "\n"
      ]
    },
    {
      "cell_type": "code",
      "execution_count": 113,
      "id": "38993dc8",
      "metadata": {
        "colab": {
          "base_uri": "https://localhost:8080/"
        },
        "id": "38993dc8",
        "outputId": "d8849f61-2491-43df-b9dd-8b2da9cebfff"
      },
      "outputs": [
        {
          "output_type": "stream",
          "name": "stdout",
          "text": [
            "importe_medio_por_tipo_transaccion:           Amount\n",
            "Class            \n",
            "0       88.413575\n",
            "1      123.871860\n"
          ]
        }
      ],
      "source": [
        "# Calcula el importe medio de las transacciones fraudulentas\n",
        "importe_medio_por_tipo_transaccion=df[['Class','Amount']].groupby('Class').mean('Amount')\n",
        "print(\"importe_medio_por_tipo_transaccion:{}\".format(importe_medio_por_tipo_transaccion))"
      ]
    },
    {
      "cell_type": "code",
      "execution_count": null,
      "id": "_BH8ovwItsKC",
      "metadata": {
        "id": "_BH8ovwItsKC"
      },
      "outputs": [],
      "source": [
        "# Muestra el importe medio de las transacciones fraudulentas"
      ]
    },
    {
      "cell_type": "code",
      "execution_count": 114,
      "id": "98eeLeL5kB66",
      "metadata": {
        "colab": {
          "base_uri": "https://localhost:8080/",
          "height": 461
        },
        "id": "98eeLeL5kB66",
        "outputId": "56f03d9d-1795-4063-8ddf-fa0deb4d314e"
      },
      "outputs": [
        {
          "output_type": "execute_result",
          "data": {
            "text/plain": [
              "<Axes: xlabel='Class'>"
            ]
          },
          "metadata": {},
          "execution_count": 114
        },
        {
          "output_type": "display_data",
          "data": {
            "text/plain": [
              "<Figure size 640x480 with 1 Axes>"
            ],
            "image/png": "[encoded data removed]"
          },
          "metadata": {}
        }
      ],
      "source": [
        "#Gráficamente el resultado anterior sería el siguiente\n",
        "importe_medio_por_tipo_transaccion.plot.bar()"
      ]
    },
    {
      "cell_type": "markdown",
      "id": "28d63dff",
      "metadata": {
        "id": "28d63dff"
      },
      "source": [
        "<details>\n",
        "  <summary><b>Haz clic aquí para obtener una pista</b></summary>\n",
        "\n",
        "    Para calcular el importe medio de las tansacciones fraudulentas, primero deberás filtrar el dataset para que contenga solamente las transacciones fraudulentas (aquellas donde «Class» es igual a 1) y, después, calcular la media de la columna «Amount» de los datos filtrados.\n",
        "</details>"
      ]
    },
    {
      "cell_type": "markdown",
      "id": "4c947f70",
      "metadata": {
        "id": "4c947f70"
      },
      "source": [
        "### Visualiza los datos"
      ]
    },
    {
      "cell_type": "markdown",
      "id": "02753134",
      "metadata": {
        "id": "02753134"
      },
      "source": [
        "\n",
        "Pregunta 1: ¿Cuántas transacciones fraudulentas hay en comparación con las no fraudulentas? (Utiliza un gráfico de barras)"
      ]
    },
    {
      "cell_type": "code",
      "execution_count": 115,
      "id": "65747ac7",
      "metadata": {
        "colab": {
          "base_uri": "https://localhost:8080/",
          "height": 461
        },
        "id": "65747ac7",
        "outputId": "f35ffd3e-6556-473f-d0ed-8a9d57e7c753"
      },
      "outputs": [
        {
          "output_type": "execute_result",
          "data": {
            "text/plain": [
              "<Axes: xlabel='Class'>"
            ]
          },
          "metadata": {},
          "execution_count": 115
        },
        {
          "output_type": "display_data",
          "data": {
            "text/plain": [
              "<Figure size 640x480 with 1 Axes>"
            ],
            "image/png": "[encoded data removed]"
          },
          "metadata": {}
        }
      ],
      "source": [
        "# Cuenta el número de transacciones fraudulentas y no fraudulentes\n",
        "\n",
        "# Muestra la distribución de las traducciones fraudulentas con respecto de las no fraudulentas\n",
        "df[['Class','Amount']].groupby('Class').count().plot.bar()"
      ]
    },
    {
      "cell_type": "markdown",
      "id": "bdd4df45",
      "metadata": {
        "id": "bdd4df45"
      },
      "source": [
        "<details>\n",
        "  <summary><b>Haz clic aquí para obtener una pista</b></summary>\n",
        "\n",
        "    Para crear un gráfico de barras que muestre la cantidad de transacciones fraudulentas y no fraudulentas, deberás contar las veces que ocurre cada clase (fraude y no fraude) según la información de la columna «Class» y después representar estos recuentos en un gráfico de barras.\n",
        "</details>"
      ]
    },
    {
      "cell_type": "markdown",
      "id": "6a282afc",
      "metadata": {
        "id": "6a282afc"
      },
      "source": [
        "Pregunta 2: ¿Cuál es la distribución de los importes de las transacciones fraudulentas? (Utiliza un histograma)\n"
      ]
    },
    {
      "cell_type": "code",
      "execution_count": 116,
      "id": "97a8b8b2",
      "metadata": {
        "colab": {
          "base_uri": "https://localhost:8080/",
          "height": 489
        },
        "id": "97a8b8b2",
        "outputId": "4a9ee1dc-951e-4220-beab-e294922c337a"
      },
      "outputs": [
        {
          "output_type": "execute_result",
          "data": {
            "text/plain": [
              "Text(0, 0.5, 'Frecuencia')"
            ]
          },
          "metadata": {},
          "execution_count": 116
        },
        {
          "output_type": "display_data",
          "data": {
            "text/plain": [
              "<Figure size 640x480 with 1 Axes>"
            ],
            "image/png": "[encoded data removed]"
          },
          "metadata": {}
        }
      ],
      "source": [
        "# Separa los datos de transacciones fraudulentas\n",
        "condicion=df['Class']==1\n",
        "df_1=df[condicion]\n",
        "df_fraud=df_1['Amount']\n",
        "df_fraud.head(10)\n",
        "sns.histplot(data=df_fraud, bins=20)\n",
        "plt.title('Distribución de la segunda columna')\n",
        "plt.xlabel('Valores')\n",
        "plt.ylabel('Frecuencia')\n",
        "\n",
        "# plt.show()"
      ]
    },
    {
      "cell_type": "markdown",
      "id": "74ede115",
      "metadata": {
        "id": "74ede115"
      },
      "source": [
        "<details>\n",
        "  <summary><b>Haz clic aquí para obtener una pista</b></summary>\n",
        "    \n",
        "    Para visualizar la distribución de los importes de las transacciones fraudulentas, deberás filtrar el dataset para que contenga únicamente las transacciones fraudulentas (aquellas donde «Class» es igual a 1) y, después, usar un histograma para representar la distribución de los valores de la columna «Amount» de los datos filtrados.\n",
        "</details>"
      ]
    },
    {
      "cell_type": "markdown",
      "id": "e645de69",
      "metadata": {
        "id": "e645de69"
      },
      "source": [
        "## Desarrollo y evaluación de modelos"
      ]
    },
    {
      "cell_type": "markdown",
      "id": "5ad482f1",
      "metadata": {
        "id": "5ad482f1"
      },
      "source": [
        "### Separa del dataset"
      ]
    },
    {
      "cell_type": "code",
      "execution_count": 117,
      "id": "d7e57b15",
      "metadata": {
        "id": "d7e57b15"
      },
      "outputs": [],
      "source": [
        "# Imports métricas\n",
        "from sklearn.model_selection import train_test_split\n",
        "from sklearn.metrics import classification_report,confusion_matrix, mean_absolute_error,mean_squared_error\n",
        "#Imports modelos de predicción\n",
        "from sklearn.linear_model import LinearRegression, LogisticRegression\n",
        "from sklearn.neighbors import KNeighborsClassifier\n",
        "from sklearn.tree import DecisionTreeClassifier\n",
        "from sklearn.ensemble import RandomForestClassifier\n",
        "from sklearn.svm import SVC"
      ]
    },
    {
      "cell_type": "code",
      "execution_count": 118,
      "id": "TIkYpqnd0ASK",
      "metadata": {
        "id": "TIkYpqnd0ASK"
      },
      "outputs": [],
      "source": [
        "X=df.drop('Class',axis=1)# Varaibles independientes\n",
        "Y=df['Class'] # Variables dependiente"
      ]
    },
    {
      "cell_type": "code",
      "execution_count": 119,
      "id": "4XULKZXQwh8A",
      "metadata": {
        "id": "4XULKZXQwh8A"
      },
      "outputs": [],
      "source": [
        "#División de los datos (variables independietes y dependiente) en 70% para entrenar al modelo y 30% para testear el modelo generado\n",
        "X_train,X_test,Y_train,Y_test=train_test_split(X,Y,test_size=0.3,random_state=42)"
      ]
    },
    {
      "cell_type": "code",
      "source": [
        "X_train.head(2)"
      ],
      "metadata": {
        "colab": {
          "base_uri": "https://localhost:8080/",
          "height": 161
        },
        "id": "_FYEFaeEQ4A3",
        "outputId": "518b615c-4f12-471a-d744-a7ea10bc270b"
      },
      "id": "_FYEFaeEQ4A3",
      "execution_count": 120,
      "outputs": [
        {
          "output_type": "execute_result",
          "data": {
            "text/plain": [
              "          Time        V1        V2        V3        V4       V5        V6  \\\n",
              "9303   13475.0  1.062798 -0.007554  1.169893  1.694109 -0.55909  0.527767   \n",
              "76408  56552.0  0.847556 -0.338382 -0.191249  0.644180 -0.18354 -0.714065   \n",
              "\n",
              "             V7        V8        V9  ...       V20       V21       V22  \\\n",
              "9303  -0.608457  0.254902  1.958445  ... -0.269189 -0.175983  0.050427   \n",
              "76408  0.632148 -0.252654 -0.251573  ...  0.294179 -0.230173 -1.113621   \n",
              "\n",
              "            V23       V24       V25       V26       V27       V28  Amount  \n",
              "9303  -0.040761  0.185224  0.516446 -0.325208  0.039374  0.007193    9.00  \n",
              "76408 -0.005678  0.078580  0.146345  0.145774 -0.084227  0.041947  209.85  \n",
              "\n",
              "[2 rows x 30 columns]"
            ],
            "text/html": [
              "\n",
              "  <div id=\"df-713023eb-91a3-4311-b3b8-c5929eb3e2da\" class=\"colab-df-container\">\n",
              "    <div>\n",
              "<style scoped>\n",
              "    .dataframe tbody tr th:only-of-type {\n",
              "        vertical-align: middle;\n",
              "    }\n",
              "\n",
              "    .dataframe tbody tr th {\n",
              "        vertical-align: top;\n",
              "    }\n",
              "\n",
              "    .dataframe thead th {\n",
              "        text-align: right;\n",
              "    }\n",
              "</style>\n",
              "<table border=\"1\" class=\"dataframe\">\n",
              "  <thead>\n",
              "    <tr style=\"text-align: right;\">\n",
              "      <th></th>\n",
              "      <th>Time</th>\n",
              "      <th>V1</th>\n",
              "      <th>V2</th>\n",
              "      <th>V3</th>\n",
              "      <th>V4</th>\n",
              "      <th>V5</th>\n",
              "      <th>V6</th>\n",
              "      <th>V7</th>\n",
              "      <th>V8</th>\n",
              "      <th>V9</th>\n",
              "      <th>...</th>\n",
              "      <th>V20</th>\n",
              "      <th>V21</th>\n",
              "      <th>V22</th>\n",
              "      <th>V23</th>\n",
              "      <th>V24</th>\n",
              "      <th>V25</th>\n",
              "      <th>V26</th>\n",
              "      <th>V27</th>\n",
              "      <th>V28</th>\n",
              "      <th>Amount</th>\n",
              "    </tr>\n",
              "  </thead>\n",
              "  <tbody>\n",
              "    <tr>\n",
              "      <th>9303</th>\n",
              "      <td>13475.0</td>\n",
              "      <td>1.062798</td>\n",
              "      <td>-0.007554</td>\n",
              "      <td>1.169893</td>\n",
              "      <td>1.694109</td>\n",
              "      <td>-0.55909</td>\n",
              "      <td>0.527767</td>\n",
              "      <td>-0.608457</td>\n",
              "      <td>0.254902</td>\n",
              "      <td>1.958445</td>\n",
              "      <td>...</td>\n",
              "      <td>-0.269189</td>\n",
              "      <td>-0.175983</td>\n",
              "      <td>0.050427</td>\n",
              "      <td>-0.040761</td>\n",
              "      <td>0.185224</td>\n",
              "      <td>0.516446</td>\n",
              "      <td>-0.325208</td>\n",
              "      <td>0.039374</td>\n",
              "      <td>0.007193</td>\n",
              "      <td>9.00</td>\n",
              "    </tr>\n",
              "    <tr>\n",
              "      <th>76408</th>\n",
              "      <td>56552.0</td>\n",
              "      <td>0.847556</td>\n",
              "      <td>-0.338382</td>\n",
              "      <td>-0.191249</td>\n",
              "      <td>0.644180</td>\n",
              "      <td>-0.18354</td>\n",
              "      <td>-0.714065</td>\n",
              "      <td>0.632148</td>\n",
              "      <td>-0.252654</td>\n",
              "      <td>-0.251573</td>\n",
              "      <td>...</td>\n",
              "      <td>0.294179</td>\n",
              "      <td>-0.230173</td>\n",
              "      <td>-1.113621</td>\n",
              "      <td>-0.005678</td>\n",
              "      <td>0.078580</td>\n",
              "      <td>0.146345</td>\n",
              "      <td>0.145774</td>\n",
              "      <td>-0.084227</td>\n",
              "      <td>0.041947</td>\n",
              "      <td>209.85</td>\n",
              "    </tr>\n",
              "  </tbody>\n",
              "</table>\n",
              "<p>2 rows × 30 columns</p>\n",
              "</div>\n",
              "    <div class=\"colab-df-buttons\">\n",
              "\n",
              "  <div class=\"colab-df-container\">\n",
              "    <button class=\"colab-df-convert\" onclick=\"convertToInteractive('df-713023eb-91a3-4311-b3b8-c5929eb3e2da')\"\n",
              "            title=\"Convert this dataframe to an interactive table.\"\n",
              "            style=\"display:none;\">\n",
              "\n",
              "  <svg xmlns=\"http://www.w3.org/2000/svg\" height=\"24px\" viewBox=\"0 -960 960 960\">\n",
              "    <path d=\"M120-120v-720h720v720H120Zm60-500h600v-160H180v160Zm220 220h160v-160H400v160Zm0 220h160v-160H400v160ZM180-400h160v-160H180v160Zm440 0h160v-160H620v160ZM180-180h160v-160H180v160Zm440 0h160v-160H620v160Z\"/>\n",
              "  </svg>\n",
              "    </button>\n",
              "\n",
              "  <style>\n",
              "    .colab-df-container {\n",
              "      display:flex;\n",
              "      gap: 12px;\n",
              "    }\n",
              "\n",
              "    .colab-df-convert {\n",
              "      background-color: #E8F0FE;\n",
              "      border: none;\n",
              "      border-radius: 50%;\n",
              "      cursor: pointer;\n",
              "      display: none;\n",
              "      fill: #1967D2;\n",
              "      height: 32px;\n",
              "      padding: 0 0 0 0;\n",
              "      width: 32px;\n",
              "    }\n",
              "\n",
              "    .colab-df-convert:hover {\n",
              "      background-color: #E2EBFA;\n",
              "      box-shadow: 0px 1px 2px rgba(60, 64, 67, 0.3), 0px 1px 3px 1px rgba(60, 64, 67, 0.15);\n",
              "      fill: #174EA6;\n",
              "    }\n",
              "\n",
              "    .colab-df-buttons div {\n",
              "      margin-bottom: 4px;\n",
              "    }\n",
              "\n",
              "    [theme=dark] .colab-df-convert {\n",
              "      background-color: #3B4455;\n",
              "      fill: #D2E3FC;\n",
              "    }\n",
              "\n",
              "    [theme=dark] .colab-df-convert:hover {\n",
              "      background-color: #434B5C;\n",
              "      box-shadow: 0px 1px 3px 1px rgba(0, 0, 0, 0.15);\n",
              "      filter: drop-shadow(0px 1px 2px rgba(0, 0, 0, 0.3));\n",
              "      fill: #FFFFFF;\n",
              "    }\n",
              "  </style>\n",
              "\n",
              "    <script>\n",
              "      const buttonEl =\n",
              "        document.querySelector('#df-713023eb-91a3-4311-b3b8-c5929eb3e2da button.colab-df-convert');\n",
              "      buttonEl.style.display =\n",
              "        google.colab.kernel.accessAllowed ? 'block' : 'none';\n",
              "\n",
              "      async function convertToInteractive(key) {\n",
              "        const element = document.querySelector('#df-713023eb-91a3-4311-b3b8-c5929eb3e2da');\n",
              "        const dataTable =\n",
              "          await google.colab.kernel.invokeFunction('convertToInteractive',\n",
              "                                                    [key], {});\n",
              "        if (!dataTable) return;\n",
              "\n",
              "        const docLinkHtml = 'Like what you see? Visit the ' +\n",
              "          '<a target=\"_blank\" href=https://colab.research.google.com/notebooks/data_table.ipynb>data table notebook</a>'\n",
              "          + ' to learn more about interactive tables.';\n",
              "        element.innerHTML = '';\n",
              "        dataTable['output_type'] = 'display_data';\n",
              "        await google.colab.output.renderOutput(dataTable, element);\n",
              "        const docLink = document.createElement('div');\n",
              "        docLink.innerHTML = docLinkHtml;\n",
              "        element.appendChild(docLink);\n",
              "      }\n",
              "    </script>\n",
              "  </div>\n",
              "\n",
              "\n",
              "<div id=\"df-31316718-8afd-4043-b389-73d54ff29bf3\">\n",
              "  <button class=\"colab-df-quickchart\" onclick=\"quickchart('df-31316718-8afd-4043-b389-73d54ff29bf3')\"\n",
              "            title=\"Suggest charts\"\n",
              "            style=\"display:none;\">\n",
              "\n",
              "<svg xmlns=\"http://www.w3.org/2000/svg\" height=\"24px\"viewBox=\"0 0 24 24\"\n",
              "     width=\"24px\">\n",
              "    <g>\n",
              "        <path d=\"M19 3H5c-1.1 0-2 .9-2 2v14c0 1.1.9 2 2 2h14c1.1 0 2-.9 2-2V5c0-1.1-.9-2-2-2zM9 17H7v-7h2v7zm4 0h-2V7h2v10zm4 0h-2v-4h2v4z\"/>\n",
              "    </g>\n",
              "</svg>\n",
              "  </button>\n",
              "\n",
              "<style>\n",
              "  .colab-df-quickchart {\n",
              "      --bg-color: #E8F0FE;\n",
              "      --fill-color: #1967D2;\n",
              "      --hover-bg-color: #E2EBFA;\n",
              "      --hover-fill-color: #174EA6;\n",
              "      --disabled-fill-color: #AAA;\n",
              "      --disabled-bg-color: #DDD;\n",
              "  }\n",
              "\n",
              "  [theme=dark] .colab-df-quickchart {\n",
              "      --bg-color: #3B4455;\n",
              "      --fill-color: #D2E3FC;\n",
              "      --hover-bg-color: #434B5C;\n",
              "      --hover-fill-color: #FFFFFF;\n",
              "      --disabled-bg-color: #3B4455;\n",
              "      --disabled-fill-color: #666;\n",
              "  }\n",
              "\n",
              "  .colab-df-quickchart {\n",
              "    background-color: var(--bg-color);\n",
              "    border: none;\n",
              "    border-radius: 50%;\n",
              "    cursor: pointer;\n",
              "    display: none;\n",
              "    fill: var(--fill-color);\n",
              "    height: 32px;\n",
              "    padding: 0;\n",
              "    width: 32px;\n",
              "  }\n",
              "\n",
              "  .colab-df-quickchart:hover {\n",
              "    background-color: var(--hover-bg-color);\n",
              "    box-shadow: 0 1px 2px rgba(60, 64, 67, 0.3), 0 1px 3px 1px rgba(60, 64, 67, 0.15);\n",
              "    fill: var(--button-hover-fill-color);\n",
              "  }\n",
              "\n",
              "  .colab-df-quickchart-complete:disabled,\n",
              "  .colab-df-quickchart-complete:disabled:hover {\n",
              "    background-color: var(--disabled-bg-color);\n",
              "    fill: var(--disabled-fill-color);\n",
              "    box-shadow: none;\n",
              "  }\n",
              "\n",
              "  .colab-df-spinner {\n",
              "    border: 2px solid var(--fill-color);\n",
              "    border-color: transparent;\n",
              "    border-bottom-color: var(--fill-color);\n",
              "    animation:\n",
              "      spin 1s steps(1) infinite;\n",
              "  }\n",
              "\n",
              "  @keyframes spin {\n",
              "    0% {\n",
              "      border-color: transparent;\n",
              "      border-bottom-color: var(--fill-color);\n",
              "      border-left-color: var(--fill-color);\n",
              "    }\n",
              "    20% {\n",
              "      border-color: transparent;\n",
              "      border-left-color: var(--fill-color);\n",
              "      border-top-color: var(--fill-color);\n",
              "    }\n",
              "    30% {\n",
              "      border-color: transparent;\n",
              "      border-left-color: var(--fill-color);\n",
              "      border-top-color: var(--fill-color);\n",
              "      border-right-color: var(--fill-color);\n",
              "    }\n",
              "    40% {\n",
              "      border-color: transparent;\n",
              "      border-right-color: var(--fill-color);\n",
              "      border-top-color: var(--fill-color);\n",
              "    }\n",
              "    60% {\n",
              "      border-color: transparent;\n",
              "      border-right-color: var(--fill-color);\n",
              "    }\n",
              "    80% {\n",
              "      border-color: transparent;\n",
              "      border-right-color: var(--fill-color);\n",
              "      border-bottom-color: var(--fill-color);\n",
              "    }\n",
              "    90% {\n",
              "      border-color: transparent;\n",
              "      border-bottom-color: var(--fill-color);\n",
              "    }\n",
              "  }\n",
              "</style>\n",
              "\n",
              "  <script>\n",
              "    async function quickchart(key) {\n",
              "      const quickchartButtonEl =\n",
              "        document.querySelector('#' + key + ' button');\n",
              "      quickchartButtonEl.disabled = true;  // To prevent multiple clicks.\n",
              "      quickchartButtonEl.classList.add('colab-df-spinner');\n",
              "      try {\n",
              "        const charts = await google.colab.kernel.invokeFunction(\n",
              "            'suggestCharts', [key], {});\n",
              "      } catch (error) {\n",
              "        console.error('Error during call to suggestCharts:', error);\n",
              "      }\n",
              "      quickchartButtonEl.classList.remove('colab-df-spinner');\n",
              "      quickchartButtonEl.classList.add('colab-df-quickchart-complete');\n",
              "    }\n",
              "    (() => {\n",
              "      let quickchartButtonEl =\n",
              "        document.querySelector('#df-31316718-8afd-4043-b389-73d54ff29bf3 button');\n",
              "      quickchartButtonEl.style.display =\n",
              "        google.colab.kernel.accessAllowed ? 'block' : 'none';\n",
              "    })();\n",
              "  </script>\n",
              "</div>\n",
              "\n",
              "    </div>\n",
              "  </div>\n"
            ],
            "application/vnd.google.colaboratory.intrinsic+json": {
              "type": "dataframe",
              "variable_name": "X_train"
            }
          },
          "metadata": {},
          "execution_count": 120
        }
      ]
    },
    {
      "cell_type": "code",
      "source": [
        "Y_train.head(2)"
      ],
      "metadata": {
        "colab": {
          "base_uri": "https://localhost:8080/"
        },
        "id": "7f8EI8O6Q6Iv",
        "outputId": "84eb87be-058d-40d4-f985-6f723c3fef62"
      },
      "id": "7f8EI8O6Q6Iv",
      "execution_count": 121,
      "outputs": [
        {
          "output_type": "execute_result",
          "data": {
            "text/plain": [
              "9303     0\n",
              "76408    0\n",
              "Name: Class, dtype: int64"
            ]
          },
          "metadata": {},
          "execution_count": 121
        }
      ]
    },
    {
      "cell_type": "code",
      "source": [
        "X_test.head(2)"
      ],
      "metadata": {
        "colab": {
          "base_uri": "https://localhost:8080/",
          "height": 161
        },
        "id": "8BBRpOdUQ8_u",
        "outputId": "1431b371-3050-4543-a2b2-f0f0461fb7c5"
      },
      "id": "8BBRpOdUQ8_u",
      "execution_count": 122,
      "outputs": [
        {
          "output_type": "execute_result",
          "data": {
            "text/plain": [
              "           Time        V1        V2        V3        V4        V5        V6  \\\n",
              "104697  69195.0  1.054379 -0.764756  0.160168  0.665587  1.113466  4.771656   \n",
              "134356  80769.0 -4.805134  4.351191 -0.916135 -0.900752 -0.870777 -0.782946   \n",
              "\n",
              "              V7        V8        V9  ...       V20       V21       V22  \\\n",
              "104697 -1.536609  1.306483  1.565054  ...  0.050995 -0.097138 -0.029759   \n",
              "134356  0.328104  0.582501  2.749336  ...  2.160193 -0.854486 -0.758266   \n",
              "\n",
              "             V23       V24       V25       V26       V27       V28  Amount  \n",
              "104697 -0.171596  1.047201  0.698595 -0.217939  0.101970  0.040152   56.42  \n",
              "134356  0.147005 -0.021274  0.552660  0.008318  0.431835 -0.436239    9.82  \n",
              "\n",
              "[2 rows x 30 columns]"
            ],
            "text/html": [
              "\n",
              "  <div id=\"df-4d0f85a8-558c-47c4-97ca-f27f15894706\" class=\"colab-df-container\">\n",
              "    <div>\n",
              "<style scoped>\n",
              "    .dataframe tbody tr th:only-of-type {\n",
              "        vertical-align: middle;\n",
              "    }\n",
              "\n",
              "    .dataframe tbody tr th {\n",
              "        vertical-align: top;\n",
              "    }\n",
              "\n",
              "    .dataframe thead th {\n",
              "        text-align: right;\n",
              "    }\n",
              "</style>\n",
              "<table border=\"1\" class=\"dataframe\">\n",
              "  <thead>\n",
              "    <tr style=\"text-align: right;\">\n",
              "      <th></th>\n",
              "      <th>Time</th>\n",
              "      <th>V1</th>\n",
              "      <th>V2</th>\n",
              "      <th>V3</th>\n",
              "      <th>V4</th>\n",
              "      <th>V5</th>\n",
              "      <th>V6</th>\n",
              "      <th>V7</th>\n",
              "      <th>V8</th>\n",
              "      <th>V9</th>\n",
              "      <th>...</th>\n",
              "      <th>V20</th>\n",
              "      <th>V21</th>\n",
              "      <th>V22</th>\n",
              "      <th>V23</th>\n",
              "      <th>V24</th>\n",
              "      <th>V25</th>\n",
              "      <th>V26</th>\n",
              "      <th>V27</th>\n",
              "      <th>V28</th>\n",
              "      <th>Amount</th>\n",
              "    </tr>\n",
              "  </thead>\n",
              "  <tbody>\n",
              "    <tr>\n",
              "      <th>104697</th>\n",
              "      <td>69195.0</td>\n",
              "      <td>1.054379</td>\n",
              "      <td>-0.764756</td>\n",
              "      <td>0.160168</td>\n",
              "      <td>0.665587</td>\n",
              "      <td>1.113466</td>\n",
              "      <td>4.771656</td>\n",
              "      <td>-1.536609</td>\n",
              "      <td>1.306483</td>\n",
              "      <td>1.565054</td>\n",
              "      <td>...</td>\n",
              "      <td>0.050995</td>\n",
              "      <td>-0.097138</td>\n",
              "      <td>-0.029759</td>\n",
              "      <td>-0.171596</td>\n",
              "      <td>1.047201</td>\n",
              "      <td>0.698595</td>\n",
              "      <td>-0.217939</td>\n",
              "      <td>0.101970</td>\n",
              "      <td>0.040152</td>\n",
              "      <td>56.42</td>\n",
              "    </tr>\n",
              "    <tr>\n",
              "      <th>134356</th>\n",
              "      <td>80769.0</td>\n",
              "      <td>-4.805134</td>\n",
              "      <td>4.351191</td>\n",
              "      <td>-0.916135</td>\n",
              "      <td>-0.900752</td>\n",
              "      <td>-0.870777</td>\n",
              "      <td>-0.782946</td>\n",
              "      <td>0.328104</td>\n",
              "      <td>0.582501</td>\n",
              "      <td>2.749336</td>\n",
              "      <td>...</td>\n",
              "      <td>2.160193</td>\n",
              "      <td>-0.854486</td>\n",
              "      <td>-0.758266</td>\n",
              "      <td>0.147005</td>\n",
              "      <td>-0.021274</td>\n",
              "      <td>0.552660</td>\n",
              "      <td>0.008318</td>\n",
              "      <td>0.431835</td>\n",
              "      <td>-0.436239</td>\n",
              "      <td>9.82</td>\n",
              "    </tr>\n",
              "  </tbody>\n",
              "</table>\n",
              "<p>2 rows × 30 columns</p>\n",
              "</div>\n",
              "    <div class=\"colab-df-buttons\">\n",
              "\n",
              "  <div class=\"colab-df-container\">\n",
              "    <button class=\"colab-df-convert\" onclick=\"convertToInteractive('df-4d0f85a8-558c-47c4-97ca-f27f15894706')\"\n",
              "            title=\"Convert this dataframe to an interactive table.\"\n",
              "            style=\"display:none;\">\n",
              "\n",
              "  <svg xmlns=\"http://www.w3.org/2000/svg\" height=\"24px\" viewBox=\"0 -960 960 960\">\n",
              "    <path d=\"M120-120v-720h720v720H120Zm60-500h600v-160H180v160Zm220 220h160v-160H400v160Zm0 220h160v-160H400v160ZM180-400h160v-160H180v160Zm440 0h160v-160H620v160ZM180-180h160v-160H180v160Zm440 0h160v-160H620v160Z\"/>\n",
              "  </svg>\n",
              "    </button>\n",
              "\n",
              "  <style>\n",
              "    .colab-df-container {\n",
              "      display:flex;\n",
              "      gap: 12px;\n",
              "    }\n",
              "\n",
              "    .colab-df-convert {\n",
              "      background-color: #E8F0FE;\n",
              "      border: none;\n",
              "      border-radius: 50%;\n",
              "      cursor: pointer;\n",
              "      display: none;\n",
              "      fill: #1967D2;\n",
              "      height: 32px;\n",
              "      padding: 0 0 0 0;\n",
              "      width: 32px;\n",
              "    }\n",
              "\n",
              "    .colab-df-convert:hover {\n",
              "      background-color: #E2EBFA;\n",
              "      box-shadow: 0px 1px 2px rgba(60, 64, 67, 0.3), 0px 1px 3px 1px rgba(60, 64, 67, 0.15);\n",
              "      fill: #174EA6;\n",
              "    }\n",
              "\n",
              "    .colab-df-buttons div {\n",
              "      margin-bottom: 4px;\n",
              "    }\n",
              "\n",
              "    [theme=dark] .colab-df-convert {\n",
              "      background-color: #3B4455;\n",
              "      fill: #D2E3FC;\n",
              "    }\n",
              "\n",
              "    [theme=dark] .colab-df-convert:hover {\n",
              "      background-color: #434B5C;\n",
              "      box-shadow: 0px 1px 3px 1px rgba(0, 0, 0, 0.15);\n",
              "      filter: drop-shadow(0px 1px 2px rgba(0, 0, 0, 0.3));\n",
              "      fill: #FFFFFF;\n",
              "    }\n",
              "  </style>\n",
              "\n",
              "    <script>\n",
              "      const buttonEl =\n",
              "        document.querySelector('#df-4d0f85a8-558c-47c4-97ca-f27f15894706 button.colab-df-convert');\n",
              "      buttonEl.style.display =\n",
              "        google.colab.kernel.accessAllowed ? 'block' : 'none';\n",
              "\n",
              "      async function convertToInteractive(key) {\n",
              "        const element = document.querySelector('#df-4d0f85a8-558c-47c4-97ca-f27f15894706');\n",
              "        const dataTable =\n",
              "          await google.colab.kernel.invokeFunction('convertToInteractive',\n",
              "                                                    [key], {});\n",
              "        if (!dataTable) return;\n",
              "\n",
              "        const docLinkHtml = 'Like what you see? Visit the ' +\n",
              "          '<a target=\"_blank\" href=https://colab.research.google.com/notebooks/data_table.ipynb>data table notebook</a>'\n",
              "          + ' to learn more about interactive tables.';\n",
              "        element.innerHTML = '';\n",
              "        dataTable['output_type'] = 'display_data';\n",
              "        await google.colab.output.renderOutput(dataTable, element);\n",
              "        const docLink = document.createElement('div');\n",
              "        docLink.innerHTML = docLinkHtml;\n",
              "        element.appendChild(docLink);\n",
              "      }\n",
              "    </script>\n",
              "  </div>\n",
              "\n",
              "\n",
              "<div id=\"df-8e65a2f4-7b07-45dc-bca9-7b422f9fd239\">\n",
              "  <button class=\"colab-df-quickchart\" onclick=\"quickchart('df-8e65a2f4-7b07-45dc-bca9-7b422f9fd239')\"\n",
              "            title=\"Suggest charts\"\n",
              "            style=\"display:none;\">\n",
              "\n",
              "<svg xmlns=\"http://www.w3.org/2000/svg\" height=\"24px\"viewBox=\"0 0 24 24\"\n",
              "     width=\"24px\">\n",
              "    <g>\n",
              "        <path d=\"M19 3H5c-1.1 0-2 .9-2 2v14c0 1.1.9 2 2 2h14c1.1 0 2-.9 2-2V5c0-1.1-.9-2-2-2zM9 17H7v-7h2v7zm4 0h-2V7h2v10zm4 0h-2v-4h2v4z\"/>\n",
              "    </g>\n",
              "</svg>\n",
              "  </button>\n",
              "\n",
              "<style>\n",
              "  .colab-df-quickchart {\n",
              "      --bg-color: #E8F0FE;\n",
              "      --fill-color: #1967D2;\n",
              "      --hover-bg-color: #E2EBFA;\n",
              "      --hover-fill-color: #174EA6;\n",
              "      --disabled-fill-color: #AAA;\n",
              "      --disabled-bg-color: #DDD;\n",
              "  }\n",
              "\n",
              "  [theme=dark] .colab-df-quickchart {\n",
              "      --bg-color: #3B4455;\n",
              "      --fill-color: #D2E3FC;\n",
              "      --hover-bg-color: #434B5C;\n",
              "      --hover-fill-color: #FFFFFF;\n",
              "      --disabled-bg-color: #3B4455;\n",
              "      --disabled-fill-color: #666;\n",
              "  }\n",
              "\n",
              "  .colab-df-quickchart {\n",
              "    background-color: var(--bg-color);\n",
              "    border: none;\n",
              "    border-radius: 50%;\n",
              "    cursor: pointer;\n",
              "    display: none;\n",
              "    fill: var(--fill-color);\n",
              "    height: 32px;\n",
              "    padding: 0;\n",
              "    width: 32px;\n",
              "  }\n",
              "\n",
              "  .colab-df-quickchart:hover {\n",
              "    background-color: var(--hover-bg-color);\n",
              "    box-shadow: 0 1px 2px rgba(60, 64, 67, 0.3), 0 1px 3px 1px rgba(60, 64, 67, 0.15);\n",
              "    fill: var(--button-hover-fill-color);\n",
              "  }\n",
              "\n",
              "  .colab-df-quickchart-complete:disabled,\n",
              "  .colab-df-quickchart-complete:disabled:hover {\n",
              "    background-color: var(--disabled-bg-color);\n",
              "    fill: var(--disabled-fill-color);\n",
              "    box-shadow: none;\n",
              "  }\n",
              "\n",
              "  .colab-df-spinner {\n",
              "    border: 2px solid var(--fill-color);\n",
              "    border-color: transparent;\n",
              "    border-bottom-color: var(--fill-color);\n",
              "    animation:\n",
              "      spin 1s steps(1) infinite;\n",
              "  }\n",
              "\n",
              "  @keyframes spin {\n",
              "    0% {\n",
              "      border-color: transparent;\n",
              "      border-bottom-color: var(--fill-color);\n",
              "      border-left-color: var(--fill-color);\n",
              "    }\n",
              "    20% {\n",
              "      border-color: transparent;\n",
              "      border-left-color: var(--fill-color);\n",
              "      border-top-color: var(--fill-color);\n",
              "    }\n",
              "    30% {\n",
              "      border-color: transparent;\n",
              "      border-left-color: var(--fill-color);\n",
              "      border-top-color: var(--fill-color);\n",
              "      border-right-color: var(--fill-color);\n",
              "    }\n",
              "    40% {\n",
              "      border-color: transparent;\n",
              "      border-right-color: var(--fill-color);\n",
              "      border-top-color: var(--fill-color);\n",
              "    }\n",
              "    60% {\n",
              "      border-color: transparent;\n",
              "      border-right-color: var(--fill-color);\n",
              "    }\n",
              "    80% {\n",
              "      border-color: transparent;\n",
              "      border-right-color: var(--fill-color);\n",
              "      border-bottom-color: var(--fill-color);\n",
              "    }\n",
              "    90% {\n",
              "      border-color: transparent;\n",
              "      border-bottom-color: var(--fill-color);\n",
              "    }\n",
              "  }\n",
              "</style>\n",
              "\n",
              "  <script>\n",
              "    async function quickchart(key) {\n",
              "      const quickchartButtonEl =\n",
              "        document.querySelector('#' + key + ' button');\n",
              "      quickchartButtonEl.disabled = true;  // To prevent multiple clicks.\n",
              "      quickchartButtonEl.classList.add('colab-df-spinner');\n",
              "      try {\n",
              "        const charts = await google.colab.kernel.invokeFunction(\n",
              "            'suggestCharts', [key], {});\n",
              "      } catch (error) {\n",
              "        console.error('Error during call to suggestCharts:', error);\n",
              "      }\n",
              "      quickchartButtonEl.classList.remove('colab-df-spinner');\n",
              "      quickchartButtonEl.classList.add('colab-df-quickchart-complete');\n",
              "    }\n",
              "    (() => {\n",
              "      let quickchartButtonEl =\n",
              "        document.querySelector('#df-8e65a2f4-7b07-45dc-bca9-7b422f9fd239 button');\n",
              "      quickchartButtonEl.style.display =\n",
              "        google.colab.kernel.accessAllowed ? 'block' : 'none';\n",
              "    })();\n",
              "  </script>\n",
              "</div>\n",
              "\n",
              "    </div>\n",
              "  </div>\n"
            ],
            "application/vnd.google.colaboratory.intrinsic+json": {
              "type": "dataframe",
              "variable_name": "X_test"
            }
          },
          "metadata": {},
          "execution_count": 122
        }
      ]
    },
    {
      "cell_type": "code",
      "source": [
        "Y_test.head(2)"
      ],
      "metadata": {
        "colab": {
          "base_uri": "https://localhost:8080/"
        },
        "id": "hA9cUcmMQ88O",
        "outputId": "c8bc3e73-bb43-4aac-fe0a-080a4d85e848"
      },
      "id": "hA9cUcmMQ88O",
      "execution_count": 123,
      "outputs": [
        {
          "output_type": "execute_result",
          "data": {
            "text/plain": [
              "104697    0\n",
              "134356    0\n",
              "Name: Class, dtype: int64"
            ]
          },
          "metadata": {},
          "execution_count": 123
        }
      ]
    },
    {
      "cell_type": "markdown",
      "id": "udLKxKx05lps",
      "metadata": {
        "id": "udLKxKx05lps"
      },
      "source": [
        "<h1><b>Linear Regression Model</b></h1>"
      ]
    },
    {
      "cell_type": "code",
      "execution_count": 124,
      "id": "cG_BEl4iwuM5",
      "metadata": {
        "colab": {
          "base_uri": "https://localhost:8080/"
        },
        "id": "cG_BEl4iwuM5",
        "outputId": "e7af3282-4df0-4e37-8d24-d5705a35f357"
      },
      "outputs": [
        {
          "output_type": "execute_result",
          "data": {
            "text/plain": [
              "array([-1.44463103e-04, -2.56058389e-03, -7.05544405e-04, ...,\n",
              "       -4.13151655e-05,  5.55834749e-03, -1.63316435e-03])"
            ]
          },
          "metadata": {},
          "execution_count": 124
        }
      ],
      "source": [
        "lr_model=LinearRegression()\n",
        "lr_model.fit(X_train,Y_train)\n",
        "predicts_lr_model=lr_model.predict(X_test)\n",
        "predicts_lr_model"
      ]
    },
    {
      "cell_type": "code",
      "execution_count": 125,
      "id": "vyyaUgnw4xB_",
      "metadata": {
        "colab": {
          "base_uri": "https://localhost:8080/"
        },
        "id": "vyyaUgnw4xB_",
        "outputId": "398fcf0e-cb0d-45e0-e835-a5e907c9ed37"
      },
      "outputs": [
        {
          "output_type": "execute_result",
          "data": {
            "text/plain": [
              "0.003414450465640593"
            ]
          },
          "metadata": {},
          "execution_count": 125
        }
      ],
      "source": [
        "# MAE (Mean Absoture Error): A menor valor mejor ajuste\n",
        "mean_absolute_error(Y_test,predicts_lr_model)"
      ]
    },
    {
      "cell_type": "code",
      "execution_count": null,
      "id": "LrycUgtI5GLx",
      "metadata": {
        "colab": {
          "base_uri": "https://localhost:8080/"
        },
        "id": "LrycUgtI5GLx",
        "outputId": "84035ab2-6e1a-48b0-a8a4-b2b680c59b39"
      },
      "outputs": [
        {
          "data": {
            "text/plain": [
              "0.0007349633227495807"
            ]
          },
          "execution_count": 134,
          "metadata": {},
          "output_type": "execute_result"
        }
      ],
      "source": [
        "# MSE (Mean Squared Error):\n",
        "mean_squared_error(Y_test,predicts_lr_model)"
      ]
    },
    {
      "cell_type": "code",
      "execution_count": null,
      "id": "M4gVWz-85MfW",
      "metadata": {
        "colab": {
          "base_uri": "https://localhost:8080/"
        },
        "id": "M4gVWz-85MfW",
        "outputId": "044625a4-9308-479a-9204-db2c8aa2675f"
      },
      "outputs": [
        {
          "data": {
            "text/plain": [
              "0.027110206984631836"
            ]
          },
          "execution_count": 135,
          "metadata": {},
          "output_type": "execute_result"
        }
      ],
      "source": [
        "# RMSE (Root Mean Squared Error ):\n",
        "np.sqrt(mean_squared_error(Y_test,predicts_lr_model))"
      ]
    },
    {
      "cell_type": "code",
      "execution_count": 131,
      "id": "7iIzgbmx95KT",
      "metadata": {
        "colab": {
          "base_uri": "https://localhost:8080/"
        },
        "id": "7iIzgbmx95KT",
        "outputId": "8017f0e8-3be4-4e72-d2ab-840c07eef5f7"
      },
      "outputs": [
        {
          "output_type": "execute_result",
          "data": {
            "text/plain": [
              "0.484410487444938"
            ]
          },
          "metadata": {},
          "execution_count": 131
        }
      ],
      "source": [
        "#Score. Devuelve la precisión media en los datos de prueba y las etiquetas dadas.\n",
        "lr_model.score(X_test, Y_test)"
      ]
    },
    {
      "cell_type": "markdown",
      "id": "S-btDjSb50fG",
      "metadata": {
        "id": "S-btDjSb50fG"
      },
      "source": [
        "<h1><b>Logistic Regression Model</b></h1>"
      ]
    },
    {
      "cell_type": "code",
      "execution_count": null,
      "id": "xsHuG2rLxkhZ",
      "metadata": {
        "id": "xsHuG2rLxkhZ"
      },
      "outputs": [],
      "source": [
        "# Generamos el modelo\n",
        "log_r_model=LogisticRegression()\n",
        "log_r_model.fit(X_train,Y_train)\n",
        "predicts_log_r_model=log_r_model.predict(X_test)\n"
      ]
    },
    {
      "cell_type": "code",
      "execution_count": null,
      "id": "5R0UMMB254XV",
      "metadata": {
        "colab": {
          "base_uri": "https://localhost:8080/"
        },
        "id": "5R0UMMB254XV",
        "outputId": "70273672-1aac-4982-941a-c382c684d456"
      },
      "outputs": [
        {
          "name": "stdout",
          "output_type": "stream",
          "text": [
            "              precision    recall  f1-score   support\n",
            "\n",
            "           0       1.00      1.00      1.00     85307\n",
            "           1       0.65      0.66      0.66       136\n",
            "\n",
            "    accuracy                           1.00     85443\n",
            "   macro avg       0.83      0.83      0.83     85443\n",
            "weighted avg       1.00      1.00      1.00     85443\n",
            "\n"
          ]
        }
      ],
      "source": [
        "print(classification_report(Y_test,predicts_log_r_model))"
      ]
    },
    {
      "cell_type": "code",
      "execution_count": null,
      "id": "iDOD2KAG6gnJ",
      "metadata": {
        "colab": {
          "base_uri": "https://localhost:8080/"
        },
        "id": "iDOD2KAG6gnJ",
        "outputId": "9a5c8d44-c3d2-48ed-b6d4-35c715031bf0"
      },
      "outputs": [
        {
          "name": "stdout",
          "output_type": "stream",
          "text": [
            "[[85259    48]\n",
            " [   46    90]]\n"
          ]
        }
      ],
      "source": [
        "#Matrix Confusión\n",
        "print(confusion_matrix(Y_test,predicts_log_r_model))"
      ]
    },
    {
      "cell_type": "markdown",
      "id": "phetiOtv6ozM",
      "metadata": {
        "id": "phetiOtv6ozM"
      },
      "source": [
        "<h1><b>K Neighbors Classifier</b></h1>"
      ]
    },
    {
      "cell_type": "code",
      "execution_count": null,
      "id": "yq5sEp9865yW",
      "metadata": {
        "colab": {
          "base_uri": "https://localhost:8080/",
          "height": 447
        },
        "id": "yq5sEp9865yW",
        "outputId": "be144558-1c0d-414f-b16c-8a549d025130"
      },
      "outputs": [
        {
          "data": {
            "text/plain": [
              "[<matplotlib.lines.Line2D at 0x7a0315228a00>]"
            ]
          },
          "execution_count": 125,
          "metadata": {},
          "output_type": "execute_result"
        },
        {
          "data": {
            "image/png": "[encoded data removed]",
            "text/plain": [
              "<Figure size 640x480 with 1 Axes>"
            ]
          },
          "metadata": {},
          "output_type": "display_data"
        }
      ],
      "source": [
        "#Generamos 10 modelos knn modificando el número de clases a crear para encontrar el tamaño óptimo (k)\n",
        "tasa_error=[]\n",
        "for i in range(1,10):\n",
        "    knn=KNeighborsClassifier(n_neighbors=i)\n",
        "    knn.fit(X_train,Y_train)\n",
        "    predict_i=knn.predict(X_test)\n",
        "    tasa_error.append(np.mean(predict_i!=Y_test))\n",
        "\n",
        "valores=range(1,10)\n",
        "plt.plot(valores,tasa_error,color='g',marker='o',markerfacecolor='r',markersize=8)"
      ]
    },
    {
      "cell_type": "code",
      "execution_count": null,
      "id": "Ilant8J3yC8m",
      "metadata": {
        "id": "Ilant8J3yC8m"
      },
      "outputs": [],
      "source": [
        "#Generamos modelo con k óptimo de tamaño 2\n",
        "k_optimo=2\n",
        "knn_model=KNeighborsClassifier(n_neighbors=k_optimo)\n",
        "knn_model.fit(X_train,Y_train)\n",
        "predicts_knn_model=knn_model.predict(X_test)\n"
      ]
    },
    {
      "cell_type": "code",
      "execution_count": null,
      "id": "9sQvUCltyCmv",
      "metadata": {
        "colab": {
          "base_uri": "https://localhost:8080/"
        },
        "id": "9sQvUCltyCmv",
        "outputId": "f8e196d4-cf3a-48a5-ff6e-3ab57eca02b6"
      },
      "outputs": [
        {
          "name": "stdout",
          "output_type": "stream",
          "text": [
            "              precision    recall  f1-score   support\n",
            "\n",
            "           0       1.00      1.00      1.00     85307\n",
            "           1       1.00      0.12      0.21       136\n",
            "\n",
            "    accuracy                           1.00     85443\n",
            "   macro avg       1.00      0.56      0.60     85443\n",
            "weighted avg       1.00      1.00      1.00     85443\n",
            "\n"
          ]
        }
      ],
      "source": [
        "print(classification_report(Y_test,predicts_knn_model))"
      ]
    },
    {
      "cell_type": "code",
      "execution_count": null,
      "id": "hqcdJ3iTJkFK",
      "metadata": {
        "colab": {
          "base_uri": "https://localhost:8080/"
        },
        "id": "hqcdJ3iTJkFK",
        "outputId": "966e5ddc-c4a8-4862-a45a-3fb82f07fc23"
      },
      "outputs": [
        {
          "name": "stdout",
          "output_type": "stream",
          "text": [
            "[[85307     0]\n",
            " [  120    16]]\n"
          ]
        }
      ],
      "source": [
        "#Matrix Confusión\n",
        "print(confusion_matrix(Y_test,predicts_knn_model))"
      ]
    },
    {
      "cell_type": "markdown",
      "id": "sXdS5YiCJ14o",
      "metadata": {
        "id": "sXdS5YiCJ14o"
      },
      "source": [
        "<h1><b>DecisionTreeClassifier</b></h1>"
      ]
    },
    {
      "cell_type": "code",
      "execution_count": 134,
      "id": "5_z0aq-TJrCa",
      "metadata": {
        "id": "5_z0aq-TJrCa"
      },
      "outputs": [],
      "source": [
        "dtree_model=DecisionTreeClassifier()\n",
        "dtree_model.fit(X_train,Y_train)\n",
        "predicts_dtree_model=dtree_model.predict(X_test)\n"
      ]
    },
    {
      "cell_type": "code",
      "execution_count": null,
      "id": "_gttFpOmQo2C",
      "metadata": {
        "colab": {
          "base_uri": "https://localhost:8080/"
        },
        "id": "_gttFpOmQo2C",
        "outputId": "69b70d04-2a32-49c6-dd59-59529652477c"
      },
      "outputs": [
        {
          "name": "stdout",
          "output_type": "stream",
          "text": [
            "              precision    recall  f1-score   support\n",
            "\n",
            "           0       1.00      1.00      1.00     85307\n",
            "           1       0.71      0.74      0.72       136\n",
            "\n",
            "    accuracy                           1.00     85443\n",
            "   macro avg       0.85      0.87      0.86     85443\n",
            "weighted avg       1.00      1.00      1.00     85443\n",
            "\n"
          ]
        }
      ],
      "source": [
        "print(classification_report(Y_test,predicts_dtree_model))"
      ]
    },
    {
      "cell_type": "code",
      "execution_count": 135,
      "id": "iS8mXSByQos6",
      "metadata": {
        "colab": {
          "base_uri": "https://localhost:8080/"
        },
        "id": "iS8mXSByQos6",
        "outputId": "a0e5a958-647f-4b1a-9aca-4f13af235ce4"
      },
      "outputs": [
        {
          "output_type": "stream",
          "name": "stdout",
          "text": [
            "[[84944    40]\n",
            " [   31   103]]\n"
          ]
        }
      ],
      "source": [
        "print(confusion_matrix(Y_test,predicts_dtree_model))"
      ]
    },
    {
      "cell_type": "markdown",
      "id": "9CIDkKDARGLO",
      "metadata": {
        "id": "9CIDkKDARGLO"
      },
      "source": [
        "<h1><b>RandomForestClassifier</b></h1>"
      ]
    },
    {
      "cell_type": "code",
      "execution_count": null,
      "id": "ETdm5WpaRFjn",
      "metadata": {
        "id": "ETdm5WpaRFjn"
      },
      "outputs": [],
      "source": [
        "rfc_model=RandomForestClassifier(max_depth=150 ,random_state=42)\n",
        "rfc_model.fit(X_train,Y_train)\n",
        "predicts_rfc_model=dtree_model.predict(X_test)"
      ]
    },
    {
      "cell_type": "code",
      "execution_count": null,
      "id": "Pnl2xH3rRFhY",
      "metadata": {
        "colab": {
          "base_uri": "https://localhost:8080/"
        },
        "id": "Pnl2xH3rRFhY",
        "outputId": "6d4235c9-2cef-4715-c613-bb08b3999a5e"
      },
      "outputs": [
        {
          "name": "stdout",
          "output_type": "stream",
          "text": [
            "              precision    recall  f1-score   support\n",
            "\n",
            "           0       1.00      1.00      1.00     84984\n",
            "           1       0.70      0.79      0.74       134\n",
            "\n",
            "    accuracy                           1.00     85118\n",
            "   macro avg       0.85      0.90      0.87     85118\n",
            "weighted avg       1.00      1.00      1.00     85118\n",
            "\n"
          ]
        }
      ],
      "source": [
        "print(classification_report(Y_test,predicts_rfc_model))"
      ]
    },
    {
      "cell_type": "code",
      "execution_count": null,
      "id": "nl0W_ONXRFei",
      "metadata": {
        "colab": {
          "base_uri": "https://localhost:8080/"
        },
        "id": "nl0W_ONXRFei",
        "outputId": "fd4d3822-32e9-46f2-89e7-26d16ae3c14e"
      },
      "outputs": [
        {
          "name": "stdout",
          "output_type": "stream",
          "text": [
            "[[85265    42]\n",
            " [   35   101]]\n"
          ]
        }
      ],
      "source": [
        "print(confusion_matrix(Y_test,predicts_rfc_model))"
      ]
    },
    {
      "cell_type": "markdown",
      "id": "LQGrhdZbRsDX",
      "metadata": {
        "id": "LQGrhdZbRsDX"
      },
      "source": [
        "<h1><b>SVC</b></h1>"
      ]
    },
    {
      "cell_type": "code",
      "execution_count": null,
      "id": "oDsfIyWrRFb_",
      "metadata": {
        "colab": {
          "background_save": true
        },
        "id": "oDsfIyWrRFb_"
      },
      "outputs": [],
      "source": [
        "svc_model=SVC(gamma='auto')\n",
        "svc_model.fit(X_train,Y_train)\n",
        "predicts_svc_model=svc_model.predict(X_test)"
      ]
    },
    {
      "cell_type": "code",
      "execution_count": null,
      "id": "Ob3U2WnMR52G",
      "metadata": {
        "colab": {
          "background_save": true
        },
        "id": "Ob3U2WnMR52G",
        "outputId": "8dd0012a-fed0-4ac4-ce89-1a56ff9e3c3c"
      },
      "outputs": [
        {
          "name": "stdout",
          "output_type": "stream",
          "text": [
            "              precision    recall  f1-score   support\n",
            "\n",
            "           0       1.00      1.00      1.00     85307\n",
            "           1       1.00      0.07      0.14       136\n",
            "\n",
            "    accuracy                           1.00     85443\n",
            "   macro avg       1.00      0.54      0.57     85443\n",
            "weighted avg       1.00      1.00      1.00     85443\n",
            "\n"
          ]
        }
      ],
      "source": [
        "print(classification_report(Y_test,predicts_svc_model))"
      ]
    },
    {
      "cell_type": "code",
      "execution_count": null,
      "id": "L_P8h9jYR5yW",
      "metadata": {
        "colab": {
          "background_save": true
        },
        "id": "L_P8h9jYR5yW",
        "outputId": "3d09585d-0a27-496f-d192-f75483921bfe"
      },
      "outputs": [
        {
          "name": "stdout",
          "output_type": "stream",
          "text": [
            "[[85307     0]\n",
            " [  126    10]]\n"
          ]
        }
      ],
      "source": [
        "print(confusion_matrix(Y_test,predicts_svc_model))"
      ]
    },
    {
      "cell_type": "markdown",
      "id": "1f0788d4",
      "metadata": {
        "id": "1f0788d4"
      },
      "source": [
        "<details><summary><b>Haz clic aquí para obtener una pista</b></summary>\n",
        "\n",
        "\n",
        "\n",
        "```\n",
        "Una vez que tegas este dataset, puedes utilizar la biblioteca scikit-learn para separar los datos en grupos de entrenamiento y de evaluación con la función train_test_split().\n",
        "\n",
        "Primero, puedes crear un dataframe de pandas «X» con todas las columnas excepto la columna «Class». Puedes crear una serie de pandas «y» solamente con la clumna «Class» column.\n",
        "\n",
        "A continuación, pueder usar la función train_test_split() para separar los datos en grupos de entrenamiento y de evaluación. Puedes pasar las variables X e Y como argumentos junto con el argumento test_size para especificar el porcentaje del dataset que se deberá asignar al grupo de evaluación (en este caso, el 20 %). También puedes utilizar el argumento random_state para determinar un valor fijo de tal manera que, cada vez que se ejecute el código, se produzca la misma división.\n",
        "\n",
        "La función train_test_split() devuelve cuatro variables: X_train, X_test, y_train y y_test. X_train e y_train representan el grupo de entrenamiento, minetras que X_test e y_test representan el grupo de evaluación. Puedes utilizar estas variable para entrenar y evaluar tus modelos de aprendizaje automático.\n",
        "\n",
        "Ten en cuenta que es importante dividir los datos en grupos de entrenamiento y de evaluación para evitar el sobreajuste y permitir que se evalúe el rendimiento del modelo con datos que desconoce.\n",
        "\n",
        "```\n",
        "\n",
        "\n",
        "\n",
        "</details>"
      ]
    },
    {
      "cell_type": "markdown",
      "id": "ca39893a",
      "metadata": {
        "id": "ca39893a"
      },
      "source": [
        "### Crea y evalúa los modelos"
      ]
    },
    {
      "cell_type": "markdown",
      "source": [
        "**Valoración de los modelos**\n",
        "\n",
        "Linear Regression Model\n",
        "\t\t- MAE (Mean Absoture Error): 0.003427283567245722\n",
        "\t\t- MSE (Mean Squared Error): 0.0007349633227495807\n",
        "\t\t- MSE (Mean Squared Error): 0.027110206984631836\n",
        "\t  - Score (Precisión Media): 0.484410487444938\n",
        "\n",
        "Logistic Regression Model\n",
        "  Confusion Matrix: [[85259    48] [   46    90]]\n",
        "\n",
        "K Neighbors Classifier\n",
        "  Confusion Matrix: [[85307     0] [  120    16]]\n",
        "\n",
        "DecisionTreeClassifier\n",
        "  Confusion Matrix: [[85944    40] [   31   102]]\n",
        "\n",
        "RandomForestClassifier\n",
        "  Confusion Matrix: [[85265    42][   35   101]]\n",
        "\n",
        "SVC\n",
        "  Confusion Matrix: [[85265    42][   35   101]]\n",
        "  [[85307     0][  126    10]]\n",
        "\n",
        "\n",
        "(*) Confusion Matrix  [[TP FP][FN FP]]\n",
        "    precisión =(TP+TN) / Total\n",
        "    Error = (FP + FN) Total\n",
        "\n"
      ],
      "metadata": {
        "id": "qDtMWTbJZWlW"
      },
      "id": "qDtMWTbJZWlW"
    },
    {
      "cell_type": "markdown",
      "source": [
        "![image.png](data:image/png;base64,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)"
      ],
      "metadata": {
        "id": "uROaOvtiYpbS"
      },
      "id": "uROaOvtiYpbS"
    },
    {
      "cell_type": "markdown",
      "id": "28b719ca",
      "metadata": {
        "id": "28b719ca"
      },
      "source": [
        "<details><summary><b>Haz clic aquí para obtener una pista</b></summary>\n",
        "\n",
        "\n",
        "\n",
        "```\n",
        "Debes haber importado las bibliotecas y clases necesarias, tales como la clase RandomForestClassifier de scikit-learn y las funciones classification_report() y accuracy_score() functions del módulo sklearn.metrics.\n",
        "\n",
        "Una vez hayas hecho esto, podrás crear una instancia de la clase RandomForestClassifier configurando los hiperparámetros max_depth y random_state en 150 y 42, respectivamente. Puedes utilizar el método .fit() para entrenar el modelo con los datos de entrenamiento.\n",
        "\n",
        "A continuación, puedes utilizar el modelo entrenado para hacer predicciones sobre los datos de evaluación con el método .predict(). Puedes almacenar estas predicciones en una variable llamada y_pred.\n",
        "\n",
        "Después, puedes utilizar la función classification_report() para mostrar en la pantalla un resumen del rendimiento del modelo con los datos de entrenamiento. Esto incluirá métricos tales como la precisión (precission), la exhaustividad (recall) y la puntuación F1 (f1-score) para cada una de las clases (en este caso, si una transacción es fraudulenta o normal). También puedes utilizar la función accuracy_score() para calcular la exactitud general del modelo con los datos de evaluación.\n",
        "\n",
        "Finalmente, podrás mostrar la exactitud el modelo en forma de porcentaje; utiliza el operador *100 para multiplicar la puntuación de exactitud por 100.\n",
        "\n",
        "```\n",
        "\n",
        "\n",
        "\n",
        "</details>"
      ]
    },
    {
      "cell_type": "markdown",
      "source": [],
      "metadata": {
        "id": "vtylTL7-Z_wV"
      },
      "id": "vtylTL7-Z_wV"
    }
  ],
  "metadata": {
    "colab": {
      "provenance": [],
      "include_colab_link": true
    },
    "kernelspec": {
      "display_name": "Python 3 (ipykernel)",
      "language": "python",
      "name": "python3"
    },
    "language_info": {
      "codemirror_mode": {
        "name": "ipython",
        "version": 3
      },
      "file_extension": ".py",
      "mimetype": "text/x-python",
      "name": "python",
      "nbconvert_exporter": "python",
      "pygments_lexer": "ipython3",
      "version": "3.11.7"
    }
  },
  "nbformat": 4,
  "nbformat_minor": 5
}